{
  "cells": [
    {
      "cell_type": "markdown",
      "metadata": {
        "id": "m2s4kN_QPQVe"
      },
      "source": [
        "# 🧬 **AI for Biology** 🧬\n",
        "\n",
        "<a href=\"https://ibb.co/Cs0GsQD\"><img src=\"https://i.ibb.co/mFzWF4g/d3ccc3f8-69e2-428f-8ec4-896221936735.webp\" alt=\"Scifi collage of AI in biology\" border=\"0\"></a>\n",
        "\n",
        "<a href=\"https://colab.research.google.com/github/deep-learning-indaba/indaba-pracs-2024/blob/main/practicals/ML_for_Bio_Indaba_Practical_2024.ipynb\" target=\"_parent\"><img src=\"https://colab.research.google.com/assets/colab-badge.svg\" alt=\"Open In Colab\"/></a>\n",
        "\n",
        "© Deep Learning Indaba 2024. Apache License 2.0.\n",
        "\n",
        "**Authors:** Natasha Latysheva\n",
        "\n",
        "**Topics:** Biology, DNA, Large Language Models, Embeddings, Supervised and Self-Supervised Learning.\n",
        "\n",
        "**Level**: Beginner\n",
        "\n",
        "**Aims/Learning Objectives:** Understand DNA embeddings and fine-tune a DNA language model\n",
        "\n",
        "# AI for Biology\n",
        "Welcome to the **AI for Biology** practical! In this session, we will:\n",
        "- Learn about some of major application areas of AI in the biosciences\n",
        "- Go over the role of DNA and how DNA language models are trained\n",
        "- Extract and explore DNA embeddings using a pre-trained state-of-the-art DNA language model\n",
        "- Dive in to a hands-on problem on modelling DNA sequences and their properties\n",
        "\n",
        "**Prerequisites:**\n",
        "\n",
        "1. Basic Python\n",
        "2. No Bio required\n",
        "\n",
        "**Practical Outline:**\n",
        "\n",
        "<div align=\"left\">\n",
        "<a href=\"https://ibb.co/jryGWdL\"><img src=\"https://i.ibb.co/kS409ph/Screenshot-2024-07-23-at-21-48-22.png\" alt=\"Screenshot-2024-07-23-at-21-48-22\" width=\"400\" border=\"0\"></a>\n",
        "</div>\n",
        "\n",
        "\n",
        "\n",
        "**Before you start:**\n",
        "\n",
        "For this practical, you will need to use a GPU to speed up training. To do this, go to the \"Runtime\" menu in Colab, select \"Change runtime type\" and then in the popup menu, choose \"GPU\" in the \"Hardware accelerator\" box.\n"
      ]
    },
    {
      "cell_type": "markdown",
      "metadata": {
        "id": "uaYkP5A7bGqF"
      },
      "source": [
        "We can also already install and import all of the required packages:"
      ]
    },
    {
      "cell_type": "code",
      "execution_count": null,
      "metadata": {
        "cellView": "form",
        "id": "4boGA9rYdt9l",
        "colab": {
          "base_uri": "https://localhost:8080/"
        },
        "outputId": "55f06f81-38a5-467a-ba5d-45385dda4be5"
      },
      "outputs": [
        {
          "output_type": "stream",
          "name": "stdout",
          "text": [
            "Drive already mounted at /content/drive; to attempt to forcibly remount, call drive.mount(\"/content/drive\", force_remount=True).\n"
          ]
        }
      ],
      "source": [
        "## Install and import anything required, download models, download data.\n",
        "# @title Install and import required packages. (Run Cell)\n",
        "%%capture\n",
        "\n",
        "# Installations.\n",
        "!pip install transformers datasets\n",
        "!pip install biopython requests h5py\n",
        "!pip install umap-learn\n",
        "\n",
        "# Imports.\n",
        "import os\n",
        "import random\n",
        "import tqdm\n",
        "\n",
        "import jax\n",
        "import jax.numpy as jnp\n",
        "from jax import grad, jit, vmap\n",
        "import flax.linen as nn\n",
        "import optax\n",
        "import torch\n",
        "\n",
        "import numpy as np\n",
        "import pandas as pd\n",
        "import h5py\n",
        "\n",
        "import matplotlib.pyplot as plt\n",
        "import seaborn as sns\n",
        "\n",
        "from Bio import Entrez, SeqIO\n",
        "\n",
        "from sklearn.manifold import TSNE\n",
        "from umap import UMAP\n",
        "\n",
        "from google.colab import drive\n",
        "\n",
        "from transformers import AutoTokenizer, AutoModelForMaskedLM\n",
        "\n",
        "# Download DNA language model and tokenizer.\n",
        "tokenizer = AutoTokenizer.from_pretrained(\n",
        "    \"InstaDeepAI/nucleotide-transformer-v2-50m-multi-species\",\n",
        "    trust_remote_code=True)\n",
        "\n",
        "language_model = AutoModelForMaskedLM.from_pretrained(\n",
        "    \"InstaDeepAI/nucleotide-transformer-v2-50m-multi-species\",\n",
        "    trust_remote_code=True)\n",
        "\n",
        "# Download pre-extracted embeddings for random DNA strings.\n",
        "dna_sequences = pd.read_csv(os.path.join(ROOT_DIR, 'dna_sequences.csv'))\n",
        "\n",
        "# Download pre-extracted embeddings for fine-tuning our later model.\n",
        "drive.mount('/content/drive')\n",
        "ROOT_DIR = '/content/drive/MyDrive/Book/DNA/'\n",
        "train_df = pd.read_csv(os.path.join(ROOT_DIR, 'train_embeddings.csv'))\n",
        "valid_df = pd.read_csv(os.path.join(ROOT_DIR, 'valid_embeddings.csv'))"
      ]
    },
    {
      "cell_type": "code",
      "execution_count": null,
      "metadata": {
        "colab": {
          "base_uri": "https://localhost:8080/"
        },
        "id": "7Jh4BKgUcNHw",
        "outputId": "cf0b68e9-a831-4079-d04c-4e5081d147f8"
      },
      "outputs": [
        {
          "output_type": "stream",
          "name": "stdout",
          "text": [
            "Found 1 JAX devices of type NVIDIA A100-SXM4-40GB.\n"
          ]
        }
      ],
      "source": [
        "# @title Check TPU/GPU. (Run Cell)\n",
        "num_devices = jax.device_count()\n",
        "device_type = jax.devices()[0].device_kind\n",
        "\n",
        "print(f\"Found {num_devices} JAX devices of type {device_type}.\")"
      ]
    },
    {
      "cell_type": "markdown",
      "metadata": {
        "id": "PYna9Z1iZwuH"
      },
      "source": [
        "\n",
        "## 1. Applications of AI in Biology\n",
        "\n",
        "AI is becoming increasingly common in the biological domain, and has seen some really exciting recent advances. However, the field is still in its early days – this means there is lots of interesting work that remains to be done and it’s an excellent time to get involved!\n",
        "\n",
        "Here is a quick survey of some exciting AI in biology work across a few different areas.\n"
      ]
    },
    {
      "cell_type": "markdown",
      "metadata": {
        "id": "s6EQ9z2D81Gi"
      },
      "source": [
        "### Medical Diagnostics\n",
        "\n",
        "Skin cancer classification models such as [this one from MIT](https://www.science.org/doi/10.1126/scitranslmed.abb3652) achieve comparable performance to certified dermatologists:\n",
        "<div align=\"center\">\n",
        "    <img src=\"https://wp.technologyreview.com/wp-content/uploads/2021/06/automated-melanoma-detection-small2.gif?w=400\" alt=\"Automated Melanoma Detection GIF\">\n",
        "</div>\n",
        "\n",
        "\n",
        "A retinal disease segmentation and classification [model from DeepMind](https://www.nature.com/articles/s41591-018-0107-6) is capable of diagnosing many ophthalmic conditions from 3D retinal scans. Its performance is similar to the best retinal specialists and outperforms some human experts:\n",
        "\n",
        "\n",
        "\n",
        "<div align=\"center\">\n",
        "    <img src=\"https://miro.medium.com/v2/resize:fit:1400/format:webp/1*cnyoA2T8BFZRBYWnUlYEtQ.gif\" alt=\"Retinal scan segmentation gif\">\n",
        "</div>\n",
        "\n",
        "[The SynthSR model from Harvard and UCL]() can take clinical brain MRI scans with any contrast, orientation and resolution and turn them into high-resolution 3D images:\n",
        "\n",
        "<div align=\"center\">\n",
        "    <img src=\"https://www.science.org/cms/10.1126/sciadv.add3607/asset/7a6c5ed9-af95-41d2-b888-2b5a653ea55b/assets/images/large/sciadv.add3607-f1.jpg\" alt=\"SynthSR MRI scan model\" width=\"400\">\n",
        "</div>\n"
      ]
    },
    {
      "cell_type": "markdown",
      "metadata": {
        "id": "KVYcazlUZ-vP"
      },
      "source": [
        "\n",
        "### Pharma and Drug Development\n",
        "\n",
        "[Exscientia](https://www.exscientia.com/) developed the first AI-designed drug to enter clinical trials (DSP-1181, aimed at treating obsessive-compulsive disorder).\n",
        "\n",
        "Many AI-assisted drug discovery efforts use models to predict how tightly small molecules will bind to different regions of a target protein involved in a given disease:\n",
        "\n",
        "<div align=\"center\">\n",
        "    <img src=\"https://developer-blogs.nvidia.com/wp-content/uploads/2023/03/bionemo_featured.jpeg\" alt=\"general pocket showing\" width=\"400\">\n",
        "</div>\n",
        "\n",
        "\n",
        "[BenevolentAI](https://www.benevolent.com/about-us/sustainability/covid-19/) used AI to identify Baricitinib, originally an arthritis drug, as a potential treatment for COVID-19 within 48 hours by using their knowledge graph.\n",
        "\n",
        "\n",
        "<div align=\"center\">\n",
        "    <img src=\"https://www.benevolent.com/application/files/6616/7458/5885/Corona_Baricitinib.png\" alt=\"BenevolentAI Baricitinib\" width=\"400\">\n",
        "</div>\n",
        "\n",
        "[Link to YouTube video titled \"BenevolentAI · AI-Enabled Drug Discovery\"](https://www.youtube.com/watch?v=RPBDhogTIT0)\n",
        "\n",
        "[Recursion Pharmaceuticals](https://www.recursion.com/) is famous for high-throughput screening and optimization, and has built advanced cell imaging models:\n",
        "\n",
        "<div align=\"center\">\n",
        "    <img src=\"https://miro.medium.com/v2/resize:fit:1400/0*yVLwEtfojWdnMZfA\" alt=\"Recursion\" width=\"800\">\n",
        "</div>\n",
        "\n",
        "\n",
        "They train models to predict missing pixels in cell images in a similar way that large language models predict missing or masked words in sentences:\n",
        "\n",
        "<div align=\"center\">\n",
        "    <img src=\"https://blogs.nvidia.com/wp-content/uploads/2024/05/Recursion-Phenom-AI-model-animation.gif\" alt=\"Recursion\" width=\"800\">\n",
        "</div>\n",
        "\n",
        "Other startups doing deep learning for drug discovery include Atomwise, insitro, Insilico Medicine, Deep Genomics, and Deepcell.\n",
        "\n",
        "Also, large pharma companies like Illumina, GSK, and Genentech have established internal deep learning teams and developed influential models such as [SpliceAI](https://www.cell.com/cell/pdf/S0092-8674(18)31629-5.pdf) (a model that understands splicing) and [PrimateAI](https://www.ncbi.nlm.nih.gov/pmc/articles/PMC6237276/) (a model that predicts the clinical effect of mutations in proteins), showcasing the increasing integration of deep learning in biology workflows.\n",
        "\n"
      ]
    },
    {
      "cell_type": "markdown",
      "metadata": {
        "id": "wjN3f4S4aIPg"
      },
      "source": [
        "\n",
        "### Molecular biology\n",
        "\n",
        "The [AlphaFold model by DeepMind](https://www.nature.com/articles/s41586-021-03819-2) has revolutionized the field of protein structure prediction, gaining widespread adoption and recognition across academia, biotech, and pharmaceutical industries:\n",
        "\n",
        "<div align=\"center\">\n",
        "    <img src=\"https://spectrum.ieee.org/media-library/two-examples-of-protein-targets-in-the-free-modelling-category-in-green-is-the-experimental-result-in-blue-is-the-computationa.gif?id=25559695&width=2400&height=1358\" alt=\"AlphaFold predictions\" width=\"800\">\n",
        "</div>\n",
        "\n",
        "\n",
        "Researchers from [EvolutionaryScale](https://www.evolutionaryscale.ai/blog/esm3-release) used their ESM3 protein language model to design a new fluorescent protein that is quite distinct compared to fluorescent proteins found in nature:\n",
        "\n",
        "<div align=\"center\">\n",
        "    <img src=\"https://cdn.prod.website-files.com/6606dc3fd5f6645318003e20/667a5bb780d0ada7dc37d1c0_image%20(1).png\" alt=\"ESM3\" width=\"400\">\n",
        "</div>\n",
        "\n"
      ]
    },
    {
      "cell_type": "markdown",
      "metadata": {
        "id": "balHN65uaPS-"
      },
      "source": [
        "\n",
        "### Ecology and Conservation\n",
        "\n",
        "[Rainforest Connection (RFCx)](https://rfcx.org/) is an innovative project that places modified smartphones in trees, records audio, and then uses models to identify different species present in the area. This helps monitor biodiversity and detect illegal activities like logging in real-time.\n",
        "\n",
        "<div align=\"center\">\n",
        "    <img src=\"https://www.huawei.com/~/media/CORPORATE/Images/case-studies/case1/photo-grid.jpg\" alt=\"Rainforest connection setup\" width=\"600\">\n",
        "</div>\n",
        "\n",
        "<div align=\"center\">\n",
        "    <img src=\"https://cdn.ttgtmedia.com/visuals/LeMagIT/Forest1.png\" alt=\"Rainforest connection audio\" width=\"600\">\n",
        "</div>\n",
        "\n",
        "\n",
        "\n",
        "[Project CETI](https://www.projectceti.org/) (Cetacean Translation Initiative) uses AI to analyse and decode whale sounds to understand their communication and behavior.\n",
        "\n",
        "\n",
        "<div align=\"center\">\n",
        "    <img src=\"https://i0.wp.com/www.josephdelpreto.com/wp-content/uploads/2023/09/Project-CETI_s-Approach-_-Illustration-%C2%A9-2023-Alex-Boersma.jpg?resize=1024%2C912\" alt=\"CETI whale\" width=\"600\">\n",
        "</div>\n",
        "\n",
        "\n",
        "A Zindi competition called [Turtle Recall](https://zindi.africa/competitions/turtle-recall-conservation-challenge) challenged users to build a model that could identify individual sea turtles from the scale patterns on their heads, which could help improve sea turtle conversation efforts:\n",
        "\n",
        "<div align=\"center\">\n",
        "    <img src=\"https://lh3.googleusercontent.com/9J6DZgiuGyYr3N1DoJBmZMVpBkTlGOq19QUws7G2fbFcuHeIJKQ3plFh-R2xkxB1OpVaqZhcglM6hWWl5x7PuuxbtnDlIWlCgoCr0LGVM4S-loaj_Jc=w1232-rw\" alt=\"Turtle recall\" width=\"600\">\n",
        "</div>\n",
        "\n"
      ]
    },
    {
      "cell_type": "markdown",
      "metadata": {
        "id": "Q61C7IWMs5Up"
      },
      "source": [
        "**Poll**: Show of hands, which of these subfields of AI for biology do you find most interesting?\n",
        "1. 🏥 **Medical Diagnostics** 🏥\n",
        "2. 💊 **Pharma and Drug Development** 💊\n",
        "3. 🧬 **Molecular Biology** 🧬\n",
        "4. 🌳 **Ecology and Conservation** 🌳\n",
        "5. **Other** (which? :)\n",
        "\n",
        "**Question**: what other interesting work in the space of AI in biology do you know about?"
      ]
    },
    {
      "cell_type": "markdown",
      "metadata": {
        "id": "uekgwzRTabu_"
      },
      "source": [
        "### Additional background reading\n",
        "\n",
        "These examples are not exhaustive and are merely there to give you a taste for some current applications of AI in biology. If you'd like to learn more about this space, here are some interesting resources to read:\n",
        "\n",
        "- *Nature Communications* 2022 review titled [\"Current progress and open challenges for applying deep learning across the biosciences\"](https://www.nature.com/articles/s41467-022-29268-7)\n",
        "- Slightly older (2018) review paper titled [“Opportunities and obstacles for deep learning in biology and medicine”](https://royalsocietypublishing.org/doi/10.1098/rsif.2017.0387). This has reached over 2,000 citations!\n",
        "- [\"Deep Learning for the Life Sciences\"](https://www.oreilly.com/library/view/deep-learning-for/9781492039822/) 2019 O'Reilly book,which provides practical insights and applications of deep learning in genomics, chemistry, and bioinformatics.\n",
        "\n",
        "\n",
        "\n",
        "\n",
        "\n",
        "\n",
        "\n"
      ]
    },
    {
      "cell_type": "markdown",
      "metadata": {
        "id": "g3U85xKMaf4f"
      },
      "source": [
        "## 2. Introduction to DNA\n"
      ]
    },
    {
      "cell_type": "markdown",
      "metadata": {
        "id": "ZsoawR4YWZuu"
      },
      "source": [
        "We hope that introduction was enough to get you excited about deep learning applications in biology! For the rest of this practical session, let's do some of the AI in bio work ourselves, on the topic of **DNA**."
      ]
    },
    {
      "cell_type": "markdown",
      "metadata": {
        "id": "wPg62NUYVCYx"
      },
      "source": [
        "<div align=\"center\">\n",
        "    <img src=\"https://i.pinimg.com/originals/c7/90/76/c79076215950e968828f663e1b69fe67.gif\" alt=\"DNA gif\" width=\"200\">\n",
        "</div>\n"
      ]
    },
    {
      "cell_type": "markdown",
      "metadata": {
        "id": "s-2h_qSbbCVb"
      },
      "source": [
        "**DNA is the molecule of inheritance, the basis of all life as we know it**.\n",
        "\n",
        "Its structure was first discovered in 1953, marking a pivotal moment in biological sciences. The first draft of the human genome was published in 2001, laying the groundwork for modern genomics.\n",
        "\n",
        "But these dates are quite recent, and although we now know some of the \"what\" of the genome, we are very far from knowing the \"how\" of how it actually functions.\n",
        "\n",
        "For example, we know that DNA is composed of 4 different \"letters\", namely \"A\", \"C\", \"G\", and \"T\", and that the human genome is composed of 3.2 billion letters that are spread across 23 pairs of chromosomes. The DNA is packed down in various ways in order to fit into the cell nucleus:\n",
        "\n",
        "<div align=\"center\">\n",
        "    <img src=\"https://miro.medium.com/v2/resize:fit:1400/1*EUKrGpPzUAwp2sOOPZOcqA.jpeg\" alt=\"DNA text\" width=\"400\">\n",
        "</div>\n",
        "\n",
        "If we were to open the \"book\" of the human genome, we would see something like this:\n",
        "\n",
        "<div align=\"center\">\n",
        "    <img src=\"https://cms.wellcome.org/sites/default/files/styles/image_full_hi/public/WI_C0035768_GenomeEditing_20150902_News_600x600.jpg?itok=FCedpedU\" alt=\"DNA text\" width=\"400\">\n",
        "</div>\n",
        "\n",
        "**This can be very hard to interpret**. And there is a lot of DNA to interpret – enough to fill a bookcase if printed across book volumes:\n",
        "\n",
        "<div align=\"center\">\n",
        "    <img src=\"https://live.staticflickr.com/3265/2569126918_b68047a65b_b.jpg\" alt=\"DNA bookcase\" width=\"400\">\n",
        "</div>\n",
        "\n",
        "\n",
        "Some of the main open questions we have about DNA are:\n",
        "- What do the 3.2 billion letters of the human genome do? Are all of them biologically functional?\n",
        "- How can each cell in the human body have exactly the same genome, but have vastly different functions? For example, think of how different a neuron is from a muscle cell.\n",
        "- We know that only approximately 2% of the DNA in the genome codes for proteins, what does the remaining 98% do?\n",
        "- How does genetic variation lead to disease or to the differences we observe between individuals?\n",
        "\n",
        "To summarise:\n",
        "\n",
        "***The human genome can be seen as a very long book with its words composed of the letters A, T, C and G. Deep learning models hold great promise for understanding the genome due to their ability to capture signal in large, complex and potentially noisy data.***"
      ]
    },
    {
      "cell_type": "markdown",
      "metadata": {
        "id": "FUZs124vaoAc"
      },
      "source": [
        "## DNA Language Models"
      ]
    },
    {
      "cell_type": "markdown",
      "metadata": {
        "id": "p1XSYCABa1pV"
      },
      "source": [
        "**DNA language models (LMs)** are very similar to large language models you might be familiar with such as ChatGPT, Gemini, Claude, etc. Instead of being trained on large amounts of natural language text, DNA LMs are trained on large amounts of DNA sequences.\n",
        "\n",
        "Both many LLMs and DNA LMs are trained by randomly **masking** some tokens in the text, and then having the model predict what the token is:\n",
        "\n",
        "<div align=\"center\">\n",
        "<a href=\"https://ibb.co/M9d9GM0\"><img src=\"https://i.ibb.co/25J5sg4/Screenshot-2024-07-23-at-22-18-57.png\" alt=\"Screenshot-2024-07-23-at-22-18-57\" width=\"800\" border=\"0\"></a>\n",
        "</div>\n",
        "\n",
        "In the same way that LLMs learn insight into language that can then be useful for many downstream tasks,\n",
        "DNA language models can capture the complex patterns and structures within DNA, making them valuable for various downstream genomic tasks such as mutation analysis and understanding regulatory elements:"
      ]
    },
    {
      "cell_type": "markdown",
      "metadata": {
        "id": "-5nhVXVvQfsb"
      },
      "source": [
        "## Some popular DNA language models\n",
        "\n",
        "As LLMs have become massively successful, more and more people have become interested in training DNA language models. Some of the most famous ones are:\n",
        "\n",
        "- [DNABERT](https://academic.oup.com/bioinformatics/article/37/15/2112/6128680) (2021) - DNABERT adapts the BERT model, which has been highly successful in NLP, to understand DNA sequences.\n",
        "- [HyenaDNA](https://arxiv.org/abs/2306.15794) (2023) - Specialises in long DNA sequences, with context lengths of up to 1 million tokens at the single nucleotide-level.\n",
        "- [Nucleotide Transformer](https://www.biorxiv.org/content/10.1101/2023.01.11.523679v1) (2023) - a transformer-based architecture specifically designed for nucleotide sequences.\n",
        "\n",
        "Some people have also fine-tuned existing natural language LLMs on DNA sequences, for example [Mistral-DNA](https://github.com/raphaelmourad/Mistral-DNA).\n",
        "\n",
        "For this practical, we will be using the Nucleotide Transformer\n",
        "(NT) model because it is quite good, popular, and readily available on the [Hugging Face platform 🤗](https://huggingface.co/).\n",
        "\n"
      ]
    },
    {
      "cell_type": "markdown",
      "metadata": {
        "id": "oi3kRTr4cFVv"
      },
      "source": [
        "## The Nucleotide Transformer (NT) model"
      ]
    },
    {
      "cell_type": "markdown",
      "metadata": {
        "id": "mI4e0ondcGzl"
      },
      "source": [
        "Nucleotide Transformer was trained on 3,202 diverse human genomes, as well as 850 genomes from a wide range of species.The model generates transferable, context-specific representations of DNA sequences.\n",
        "\n",
        "Some more details on the model:\n",
        "- NT is an encoder-only transformer architecture, trained using the BERT approach (masking parts of DNA sequences). The DNA sequences were tokenised to 6-mers.\n",
        "- It is an unsupervised model, but its representations alone match or outperform specialized methods on 11 of 18 prediction tasks, such as predicting whether a given piece of DNA contains certain regulatory elements known as promoters and enhancers.\n",
        "- The training data for the `nucleotide-transformer-v2-50m-multi-species` version of NT was trained on a total of **174B nucleotides**, i.e roughly **29B tokens**. Here are the stats per organism group:\n",
        "\n",
        "| Class                | Number of species  | Number of nucleotides (B) |\n",
        "| ---------------------| -------------------| --------------------------|\n",
        "| Bacteria             | 667                | 17.1                      |\n",
        "| Fungi                | 46                 | 2.3                       |\n",
        "| Invertebrate         | 39                 | 20.8                      |\n",
        "| Protozoa             | 10                 | 0.5                       |\n",
        "| Mammalian Vertebrate | 31                 | 69.8                      |\n",
        "| Other Vertebrate     | 57                 | 63.4                      |\n",
        "\n",
        "There are other, larger versions of the model on Hugging Face available [here](https://huggingface.co/collections/InstaDeepAI/nucleotide-transformer-65099cdde13ff96230f2e592). We are using a relatively small model here for speed reasons."
      ]
    },
    {
      "cell_type": "markdown",
      "metadata": {
        "id": "qfpDwu0mbC2U"
      },
      "source": [
        "## Exploring DNA embeddings across different species"
      ]
    },
    {
      "cell_type": "markdown",
      "metadata": {
        "id": "4SvGZ0yAUEor"
      },
      "source": [
        "Let's load up the Nucleotide Transformer (NT) model from HuggingFace and start playing around with it!\n",
        "\n",
        "We already loaded up the tokenizer and model in the first cell of the notebook. They are these two objects:"
      ]
    },
    {
      "cell_type": "code",
      "source": [
        "type(tokenizer)"
      ],
      "metadata": {
        "colab": {
          "base_uri": "https://localhost:8080/",
          "height": 329
        },
        "id": "6hisjeBWMhQr",
        "outputId": "0f43c280-b237-4d8d-e68d-d8980b8db2a1"
      },
      "execution_count": null,
      "outputs": [
        {
          "output_type": "execute_result",
          "data": {
            "text/plain": [
              "transformers.models.esm.tokenization_esm.EsmTokenizer"
            ],
            "text/html": [
              "<div style=\"max-width:800px; border: 1px solid var(--colab-border-color);\"><style>\n",
              "      pre.function-repr-contents {\n",
              "        overflow-x: auto;\n",
              "        padding: 8px 12px;\n",
              "        max-height: 500px;\n",
              "      }\n",
              "\n",
              "      pre.function-repr-contents.function-repr-contents-collapsed {\n",
              "        cursor: pointer;\n",
              "        max-height: 100px;\n",
              "      }\n",
              "    </style>\n",
              "    <pre style=\"white-space: initial; background:\n",
              "         var(--colab-secondary-surface-color); padding: 8px 12px;\n",
              "         border-bottom: 1px solid var(--colab-border-color);\"><b>transformers.models.esm.tokenization_esm.EsmTokenizer</b><br/>def __call__(text: Union[TextInput, PreTokenizedInput, List[TextInput], List[PreTokenizedInput]]=None, text_pair: Optional[Union[TextInput, PreTokenizedInput, List[TextInput], List[PreTokenizedInput]]]=None, text_target: Union[TextInput, PreTokenizedInput, List[TextInput], List[PreTokenizedInput]]=None, text_pair_target: Optional[Union[TextInput, PreTokenizedInput, List[TextInput], List[PreTokenizedInput]]]=None, add_special_tokens: bool=True, padding: Union[bool, str, PaddingStrategy]=False, truncation: Union[bool, str, TruncationStrategy]=None, max_length: Optional[int]=None, stride: int=0, is_split_into_words: bool=False, pad_to_multiple_of: Optional[int]=None, return_tensors: Optional[Union[str, TensorType]]=None, return_token_type_ids: Optional[bool]=None, return_attention_mask: Optional[bool]=None, return_overflowing_tokens: bool=False, return_special_tokens_mask: bool=False, return_offsets_mapping: bool=False, return_length: bool=False, verbose: bool=True, **kwargs) -&gt; BatchEncoding</pre><pre class=\"function-repr-contents function-repr-contents-collapsed\" style=\"\"><a class=\"filepath\" style=\"display:none\" href=\"#\">/usr/local/lib/python3.10/dist-packages/transformers/models/esm/tokenization_esm.py</a>Constructs an ESM tokenizer.</pre>\n",
              "      <script>\n",
              "      if (google.colab.kernel.accessAllowed && google.colab.files && google.colab.files.view) {\n",
              "        for (const element of document.querySelectorAll('.filepath')) {\n",
              "          element.style.display = 'block'\n",
              "          element.onclick = (event) => {\n",
              "            event.preventDefault();\n",
              "            event.stopPropagation();\n",
              "            google.colab.files.view(element.textContent, 35);\n",
              "          };\n",
              "        }\n",
              "      }\n",
              "      for (const element of document.querySelectorAll('.function-repr-contents')) {\n",
              "        element.onclick = (event) => {\n",
              "          event.preventDefault();\n",
              "          event.stopPropagation();\n",
              "          element.classList.toggle('function-repr-contents-collapsed');\n",
              "        };\n",
              "      }\n",
              "      </script>\n",
              "      </div>"
            ]
          },
          "metadata": {},
          "execution_count": 130
        }
      ]
    },
    {
      "cell_type": "code",
      "source": [
        "type(language_model)"
      ],
      "metadata": {
        "colab": {
          "base_uri": "https://localhost:8080/",
          "height": 203
        },
        "id": "y3Pc0E_lMjk_",
        "outputId": "f4b8f411-2ed2-44c6-bd0b-5d489f72cbdd"
      },
      "execution_count": null,
      "outputs": [
        {
          "output_type": "execute_result",
          "data": {
            "text/plain": [
              "transformers_modules.InstaDeepAI.nucleotide-transformer-v2-50m-multi-species.ebe8e9ea00908a1e5a8f289d47d95bb09aac9f19.modeling_esm.EsmForMaskedLM"
            ],
            "text/html": [
              "<div style=\"max-width:800px; border: 1px solid var(--colab-border-color);\"><style>\n",
              "      pre.function-repr-contents {\n",
              "        overflow-x: auto;\n",
              "        padding: 8px 12px;\n",
              "        max-height: 500px;\n",
              "      }\n",
              "\n",
              "      pre.function-repr-contents.function-repr-contents-collapsed {\n",
              "        cursor: pointer;\n",
              "        max-height: 100px;\n",
              "      }\n",
              "    </style>\n",
              "    <pre style=\"white-space: initial; background:\n",
              "         var(--colab-secondary-surface-color); padding: 8px 12px;\n",
              "         border-bottom: 1px solid var(--colab-border-color);\"><b>transformers_modules.InstaDeepAI.nucleotide-transformer-v2-50m-multi-species.ebe8e9ea00908a1e5a8f289d47d95bb09aac9f19.modeling_esm.EsmForMaskedLM</b><br/>def _wrapped_call_impl(*args, **kwargs)</pre><pre class=\"function-repr-contents function-repr-contents-collapsed\" style=\"\"><a class=\"filepath\" style=\"display:none\" href=\"#\">/root/.cache/huggingface/modules/transformers_modules/InstaDeepAI/nucleotide-transformer-v2-50m-multi-species/ebe8e9ea00908a1e5a8f289d47d95bb09aac9f19/modeling_esm.py</a>ESM Model with a `language modeling` head on top.\n",
              "\n",
              "This model inherits from [`PreTrainedModel`]. Check the superclass documentation for the generic methods the\n",
              "library implements for all its model (such as downloading or saving, resizing the input embeddings, pruning heads\n",
              "etc.)\n",
              "\n",
              "This model is also a PyTorch [torch.nn.Module](https://pytorch.org/docs/stable/nn.html#torch.nn.Module) subclass.\n",
              "Use it as a regular PyTorch Module and refer to the PyTorch documentation for all matter related to general usage\n",
              "and behavior.\n",
              "\n",
              "Parameters:\n",
              "    config ([`EsmConfig`]): Model configuration class with all the parameters of the\n",
              "        model. Initializing with a config file does not load the weights associated with the model, only the\n",
              "        configuration. Check out the [`~PreTrainedModel.from_pretrained`] method to load the model weights.</pre>\n",
              "      <script>\n",
              "      if (google.colab.kernel.accessAllowed && google.colab.files && google.colab.files.view) {\n",
              "        for (const element of document.querySelectorAll('.filepath')) {\n",
              "          element.style.display = 'block'\n",
              "          element.onclick = (event) => {\n",
              "            event.preventDefault();\n",
              "            event.stopPropagation();\n",
              "            google.colab.files.view(element.textContent, 1106);\n",
              "          };\n",
              "        }\n",
              "      }\n",
              "      for (const element of document.querySelectorAll('.function-repr-contents')) {\n",
              "        element.onclick = (event) => {\n",
              "          event.preventDefault();\n",
              "          event.stopPropagation();\n",
              "          element.classList.toggle('function-repr-contents-collapsed');\n",
              "        };\n",
              "      }\n",
              "      </script>\n",
              "      </div>"
            ]
          },
          "metadata": {},
          "execution_count": 128
        }
      ]
    },
    {
      "cell_type": "markdown",
      "source": [
        "\n",
        "Let's see what the model has learned about DNA across different species. We can grab random DNA sequences from different species, use the model to extract an **embedding** representation of the DNA, and see if similar species tend to have DNA with similar representations.\n",
        "\n",
        "Let's come up with a list of species of interest:"
      ],
      "metadata": {
        "id": "Wlhntuz2FKOT"
      }
    },
    {
      "cell_type": "code",
      "execution_count": null,
      "metadata": {
        "colab": {
          "base_uri": "https://localhost:8080/"
        },
        "id": "PVw2zyrjuAJ7",
        "outputId": "44dae763-2769-4dec-939d-4fa82cc50d08"
      },
      "outputs": [
        {
          "output_type": "stream",
          "name": "stdout",
          "text": [
            "10\n"
          ]
        }
      ],
      "source": [
        "organisms = [\n",
        "    'Homo sapiens',  # Human\n",
        "    'Pan troglodytes',  # Chimpanzee\n",
        "    'Pan paniscus',     # Bonobo\n",
        "    'Gorilla gorilla',  # Gorilla\n",
        "    'Tursiops truncatus',  # Dolphin (bottlenose)\n",
        "    'Hydrochoerus hydrochaeris',  # Capybara\n",
        "    'Escherichia coli',  # E. coli bacteria\n",
        "    'Lactobacillus acidophilus',  # Common probiotic bacterium\n",
        "    'Salmonella enterica',  # Common foodborne pathogen\n",
        "    'Pseudomonas aeruginosa',  # Bacterium found in soil and water\n",
        "]\n",
        "\n",
        "print(len(organisms))"
      ]
    },
    {
      "cell_type": "markdown",
      "metadata": {
        "id": "qgTtxzq_V333"
      },
      "source": [
        "We can use the `Entrez` Python library to do a database search for a random DNA string for a given organism:"
      ]
    },
    {
      "cell_type": "code",
      "execution_count": null,
      "metadata": {
        "colab": {
          "base_uri": "https://localhost:8080/"
        },
        "id": "v884-yBoV81G",
        "outputId": "0c2aac4c-7fa4-4b1d-e383-2efb2dd9c25c"
      },
      "outputs": [
        {
          "output_type": "stream",
          "name": "stdout",
          "text": [
            "ID: pdb|8W0A|D\n",
            "Name: pdb|8W0A|D\n",
            "Description: pdb|8W0A|D Chain D, DNA (5'-D(P*TP*TP*TP*TP*TP*TP*T)-3')\n",
            "Number of features: 0\n",
            "Seq('CCAACCGACCACACCCACCACCCTACCGCCTTTTTTTTTTTTTTT')\n"
          ]
        }
      ],
      "source": [
        "organism = 'Homo sapiens'\n",
        "\n",
        "Entrez.email = \"your.email@example.com\"  # Required. Can be a placeholder.\n",
        "\n",
        "# Search for DNA records for the organism.\n",
        "handle = Entrez.esearch(\n",
        "      db='nucleotide', term=f'{organism}[Organism]', retmax=10)\n",
        "record = Entrez.read(handle)\n",
        "handle.close()\n",
        "\n",
        "# Grab a random record.\n",
        "np.random.seed(42)\n",
        "random_record_id = random.choice(record['IdList'])\n",
        "\n",
        "# Read the DNA.\n",
        "handle = Entrez.efetch(\n",
        "    db='nucleotide', id=random_record_id, rettype='fasta', retmode='text')\n",
        "seq_record = SeqIO.read(handle, 'fasta')\n",
        "\n",
        "print(seq_record)"
      ]
    },
    {
      "cell_type": "markdown",
      "metadata": {
        "id": "2c9OD88UWcbD"
      },
      "source": [
        "We can easily grab the DNA string from this entry:"
      ]
    },
    {
      "cell_type": "code",
      "execution_count": null,
      "metadata": {
        "colab": {
          "base_uri": "https://localhost:8080/",
          "height": 36
        },
        "id": "NE3WVQZAWUzo",
        "outputId": "fd15e0b8-c626-49d0-f616-b40a548b51b9"
      },
      "outputs": [
        {
          "output_type": "execute_result",
          "data": {
            "text/plain": [
              "'CCAACCGACCACACCCACCACCCTACCGCCTTTTTTTTTTTTTTT'"
            ],
            "application/vnd.google.colaboratory.intrinsic+json": {
              "type": "string"
            }
          },
          "metadata": {},
          "execution_count": 6
        }
      ],
      "source": [
        "dna_sequence = str(seq_record.seq)\n",
        "dna_sequence"
      ]
    },
    {
      "cell_type": "markdown",
      "metadata": {
        "id": "irKR4ijrXPeV"
      },
      "source": [
        "The NT model can be used to compute a numerical representation of the meaning of this DNA string. We will simply pass the DNA string as input, tokenize it, and extract the final hidden layer activations from the model:"
      ]
    },
    {
      "cell_type": "code",
      "execution_count": null,
      "metadata": {
        "colab": {
          "base_uri": "https://localhost:8080/"
        },
        "id": "91-IP-4CXd4Z",
        "outputId": "9d433f8d-5f7d-4f3a-91e5-c6efca077b8e"
      },
      "outputs": [
        {
          "output_type": "execute_result",
          "data": {
            "text/plain": [
              "tensor([[   3, 2576, 3240,  ...,    1,    1,    1]])"
            ]
          },
          "metadata": {},
          "execution_count": 7
        }
      ],
      "source": [
        "# Tokenize the DNA sequence.\n",
        "max_length = tokenizer.model_max_length\n",
        "\n",
        "token_ids = tokenizer.batch_encode_plus(\n",
        "  [dna_sequence], return_tensors='pt',\n",
        "  padding='max_length', max_length=max_length)['input_ids']\n",
        "\n",
        "token_ids"
      ]
    },
    {
      "cell_type": "markdown",
      "metadata": {
        "id": "lIPxAnTKYi_j"
      },
      "source": [
        "You can see that the DNA sequence has been tokenised, and padded with the `1` token up to the max length of 2048:"
      ]
    },
    {
      "cell_type": "code",
      "execution_count": null,
      "metadata": {
        "colab": {
          "base_uri": "https://localhost:8080/"
        },
        "id": "QkbnezMnYd03",
        "outputId": "484c36d0-3151-409b-a0d9-97bad94a410c"
      },
      "outputs": [
        {
          "output_type": "execute_result",
          "data": {
            "text/plain": [
              "2048"
            ]
          },
          "metadata": {},
          "execution_count": 8
        }
      ],
      "source": [
        "len(token_ids[0])"
      ]
    },
    {
      "cell_type": "code",
      "execution_count": null,
      "metadata": {
        "colab": {
          "base_uri": "https://localhost:8080/"
        },
        "id": "psxQ5Ib5Yqax",
        "outputId": "1a4c9742-9e47-4938-9fa0-0084a92bc3e7"
      },
      "outputs": [
        {
          "output_type": "execute_result",
          "data": {
            "text/plain": [
              "tensor([1, 1, 1, 1, 1, 1, 1, 1, 1, 1, 1, 1, 1, 1, 1, 1, 1, 1, 1, 1, 1, 1, 1, 1,\n",
              "        1, 1, 1, 1, 1, 1, 1, 1, 1, 1, 1, 1, 1, 1, 1, 1, 1, 1, 1, 1, 1, 1, 1, 1,\n",
              "        1, 1])"
            ]
          },
          "metadata": {},
          "execution_count": 9
        }
      ],
      "source": [
        "token_ids[0][-50:]  # Show the last 50 tokens."
      ]
    },
    {
      "cell_type": "markdown",
      "metadata": {
        "id": "EUHpbYFoY2CQ"
      },
      "source": [
        "Now let's grab the model output given this DNA input:"
      ]
    },
    {
      "cell_type": "code",
      "execution_count": null,
      "metadata": {
        "id": "zOPWLYQ9X7Hp"
      },
      "outputs": [],
      "source": [
        "attention_mask = token_ids != tokenizer.pad_token_id\n",
        "\n",
        "torch_outs = language_model(\n",
        "  token_ids,\n",
        "  attention_mask=attention_mask,\n",
        "  encoder_attention_mask=attention_mask,\n",
        "  output_hidden_states=True,\n",
        ")"
      ]
    },
    {
      "cell_type": "markdown",
      "metadata": {
        "id": "qKza0f1jZFDd"
      },
      "source": [
        "We can see that 13 different hidden state outputs are present, representing outputs from 13 different layers in the model:"
      ]
    },
    {
      "cell_type": "code",
      "execution_count": null,
      "metadata": {
        "colab": {
          "base_uri": "https://localhost:8080/"
        },
        "id": "ARjvBGUAY6Gg",
        "outputId": "f194b3fc-5c2f-4e2f-b358-2de5d123535c"
      },
      "outputs": [
        {
          "output_type": "execute_result",
          "data": {
            "text/plain": [
              "13"
            ]
          },
          "metadata": {},
          "execution_count": 11
        }
      ],
      "source": [
        "len(torch_outs['hidden_states'])"
      ]
    },
    {
      "cell_type": "markdown",
      "metadata": {
        "id": "N92L57BIZOiu"
      },
      "source": [
        "Let's grab the final hidden state at index `-1` since this is likely to be informative (but perhaps not optimally informative for every task - we could try the second to last hidden state, or the third to last, etc.):"
      ]
    },
    {
      "cell_type": "code",
      "execution_count": null,
      "metadata": {
        "colab": {
          "base_uri": "https://localhost:8080/"
        },
        "id": "rTruDvORZYM7",
        "outputId": "23ebb7ba-30ee-4591-f2ee-5bc4aedadba4"
      },
      "outputs": [
        {
          "output_type": "execute_result",
          "data": {
            "text/plain": [
              "(2048, 512)"
            ]
          },
          "metadata": {},
          "execution_count": 12
        }
      ],
      "source": [
        "embeddings = torch_outs['hidden_states'][-1].detach()\n",
        "embeddings = np.squeeze(embeddings.numpy())\n",
        "embeddings.shape"
      ]
    },
    {
      "cell_type": "markdown",
      "metadata": {
        "id": "lt6PoMHoZhrG"
      },
      "source": [
        "We can see that the embedding is a matrix of shape 2048 by 512. That's a big numpy matrix!"
      ]
    },
    {
      "cell_type": "code",
      "execution_count": null,
      "metadata": {
        "colab": {
          "base_uri": "https://localhost:8080/"
        },
        "id": "G-_x-wwjZust",
        "outputId": "b8f52322-81aa-4925-baff-337936516667"
      },
      "outputs": [
        {
          "output_type": "execute_result",
          "data": {
            "text/plain": [
              "array([[-5.1747811e-01,  5.4298615e-01,  7.6348476e-02, ...,\n",
              "        -1.5598618e+00,  5.2217718e-02, -1.1169751e-01],\n",
              "       [-3.1107268e-01,  3.4553599e-01, -4.2735420e-02, ...,\n",
              "        -6.6240311e-01,  3.3483064e-01,  4.4505253e-01],\n",
              "       [-6.3739371e-01,  1.0584956e-01, -5.4861659e-01, ...,\n",
              "        -3.3127525e-01,  1.2593283e-02,  3.2412667e-02],\n",
              "       ...,\n",
              "       [-5.5931252e-01,  1.1641140e+00,  6.8781234e-02, ...,\n",
              "        -7.8431064e-01, -5.1049072e-01, -4.5318118e-01],\n",
              "       [-8.7639725e-01,  9.8790729e-01, -1.0459203e-01, ...,\n",
              "        -1.1585804e+00, -4.0476355e-01, -1.7803915e-01],\n",
              "       [-7.4873912e-01,  1.1218925e+00, -6.1276221e-01, ...,\n",
              "        -1.3849223e+00, -3.5970128e-01, -6.6127529e-04]], dtype=float32)"
            ]
          },
          "metadata": {},
          "execution_count": 13
        }
      ],
      "source": [
        "embeddings"
      ]
    },
    {
      "cell_type": "markdown",
      "metadata": {
        "id": "-YTHUDbdZxcy"
      },
      "source": [
        "Within this large matrix of numbers, some sense of the meaning of the DNA string has been captured by the model.\n",
        "\n",
        "Recall that our DNA string had a length of 2048 – that means each position has its own 512 length embedding vector that is context aware.\n",
        "\n",
        "We could visualise this matrix of numbers, but that in itself would not be terribly meaningful:\n"
      ]
    },
    {
      "cell_type": "code",
      "execution_count": null,
      "metadata": {
        "colab": {
          "base_uri": "https://localhost:8080/",
          "height": 435
        },
        "id": "cCj4Bu6TaGbK",
        "outputId": "0adf0b78-945d-40f5-b1fd-c67a25ae660e"
      },
      "outputs": [
        {
          "output_type": "display_data",
          "data": {
            "text/plain": [
              "<Figure size 640x480 with 1 Axes>"
            ],
            "image/png": "[encoded data removed]"
          },
          "metadata": {}
        }
      ],
      "source": [
        "plt.imshow(embeddings)\n",
        "plt.show()"
      ]
    },
    {
      "cell_type": "markdown",
      "metadata": {
        "id": "YMqR4K-baXns"
      },
      "source": [
        "One common way of summarising an embedding like this is to compute the **mean embedding** – we can take the mean across the spatial axis and get an embedding of length 512 that represents the entire DNA sequence."
      ]
    },
    {
      "cell_type": "code",
      "execution_count": null,
      "metadata": {
        "colab": {
          "base_uri": "https://localhost:8080/",
          "height": 430
        },
        "id": "0KWL7QyDbN4A",
        "outputId": "6e2d2d13-c87a-4813-ebf2-243347753170"
      },
      "outputs": [
        {
          "output_type": "display_data",
          "data": {
            "text/plain": [
              "<Figure size 640x480 with 1 Axes>"
            ],
            "image/png": "[encoded data removed]"
          },
          "metadata": {}
        }
      ],
      "source": [
        "# Move axis to get broadcasting to work.\n",
        "attention_mask = np.moveaxis(attention_mask.numpy(), 0, -1)\n",
        "\n",
        "# Compute mean embedding.\n",
        "mean_embeddings = np.sum(\n",
        "    attention_mask * embeddings, axis=0) / np.sum(attention_mask)\n",
        "\n",
        "plt.plot(mean_embeddings, color='grey')\n",
        "plt.show()"
      ]
    },
    {
      "cell_type": "markdown",
      "metadata": {
        "id": "P0obDhoSbsF9"
      },
      "source": [
        "**It's nice to be able to condense a DNA sequence down to 512 numbers like this, but it's still hard to really know what these numbers mean.**\n",
        "\n",
        "The value of sequence embeddings really comes out when you **compare them against each other**. So, let's write the function `fetch_random_dna` that will extract some random DNA sequences for a given species:"
      ]
    },
    {
      "cell_type": "code",
      "execution_count": null,
      "metadata": {
        "id": "v-Wor2NYVwuS"
      },
      "outputs": [],
      "source": [
        "def fetch_random_dna(\n",
        "  organism: str,\n",
        "  min_length: int,\n",
        "  max_length: int,\n",
        "  num_sequences: int,\n",
        "  max_attempts: int = 50) -> list[str]:\n",
        "  \"\"\"Fetch a certain number of DNA sequences of a given length for a species.\"\"\"\n",
        "  # Search for nucleotide entries for the organism as we did before.\n",
        "  handle = Entrez.esearch(\n",
        "      db='nucleotide', term=f'{organism}[Organism]', retmax=max_attempts)\n",
        "  record = Entrez.read(handle)\n",
        "  handle.close()\n",
        "  if not record['IdList']:\n",
        "    return []\n",
        "\n",
        "  # We can collect our DNA sequences in this list.\n",
        "  sequences = []\n",
        "  attempts = 0\n",
        "\n",
        "  while len(sequences) < num_sequences and attempts < max_attempts:\n",
        "    random_record_id = random.choice(record['IdList'])\n",
        "    handle = Entrez.efetch(\n",
        "        db='nucleotide', id=random_record_id, rettype='fasta', retmode='text')\n",
        "    try:\n",
        "      seq_record = SeqIO.read(handle, 'fasta')\n",
        "      handle.close()\n",
        "\n",
        "      if len(seq_record.seq) >= min_length:\n",
        "        seq = str(seq_record.seq)\n",
        "        if len(seq) > max_length:\n",
        "          seq = seq[:max_length]\n",
        "        sequences.append(seq)\n",
        "\n",
        "    # Handle the case where no valid FASTA record was found.\n",
        "    except ValueError:\n",
        "      handle.close()\n",
        "    attempts += 1\n",
        "\n",
        "  return sequences"
      ]
    },
    {
      "cell_type": "markdown",
      "metadata": {
        "id": "x-F4OQESebs4"
      },
      "source": [
        "Let's use this to fetch one short DNA sequence for human:"
      ]
    },
    {
      "cell_type": "code",
      "execution_count": null,
      "metadata": {
        "colab": {
          "base_uri": "https://localhost:8080/"
        },
        "id": "7xbuwa-8eWR-",
        "outputId": "2bef5b6b-0664-4ca1-eca9-9fbc65acd90b"
      },
      "outputs": [
        {
          "output_type": "execute_result",
          "data": {
            "text/plain": [
              "['TGAGGTACCTCA']"
            ]
          },
          "metadata": {},
          "execution_count": 17
        }
      ],
      "source": [
        "fetch_random_dna(\n",
        "    organism='Homo sapiens', min_length=10, max_length=50, num_sequences=1)"
      ]
    },
    {
      "cell_type": "markdown",
      "metadata": {
        "id": "BeCb7wbGeiN-"
      },
      "source": [
        "Now we can easily use this to fetch some DNA sequences for the organisms in our list above. The code to do this would look like this:"
      ]
    },
    {
      "cell_type": "code",
      "execution_count": null,
      "metadata": {
        "colab": {
          "base_uri": "https://localhost:8080/"
        },
        "id": "gXHNINCZeUAS",
        "outputId": "a60b52e6-0bb6-47e8-b4dc-24543ea1b70c"
      },
      "outputs": [
        {
          "output_type": "stream",
          "name": "stdout",
          "text": [
            "Fetching 1 random DNA sequences of min length 100 and max length 1000 for 10 organisms...\n",
            "\n"
          ]
        },
        {
          "output_type": "stream",
          "name": "stderr",
          "text": [
            "\rOrganisms:   0%|          | 0/3 [00:00<?, ?it/s]"
          ]
        },
        {
          "output_type": "stream",
          "name": "stdout",
          "text": [
            "Homo sapiens\n"
          ]
        },
        {
          "output_type": "stream",
          "name": "stderr",
          "text": [
            "\rOrganisms:  33%|███▎      | 1/3 [00:02<00:05,  2.92s/it]"
          ]
        },
        {
          "output_type": "stream",
          "name": "stdout",
          "text": [
            "Pan troglodytes\n"
          ]
        },
        {
          "output_type": "stream",
          "name": "stderr",
          "text": [
            "\rOrganisms:  67%|██████▋   | 2/3 [00:04<00:01,  1.85s/it]"
          ]
        },
        {
          "output_type": "stream",
          "name": "stdout",
          "text": [
            "Pan paniscus\n"
          ]
        },
        {
          "output_type": "stream",
          "name": "stderr",
          "text": [
            "Organisms: 100%|██████████| 3/3 [00:04<00:00,  1.66s/it]\n"
          ]
        }
      ],
      "source": [
        "NUM_SEQUENCES = 1\n",
        "MIN_LENGTH = 100\n",
        "MAX_LENGTH = 1000\n",
        "random.seed(42)\n",
        "\n",
        "print(f'Fetching {NUM_SEQUENCES} random DNA sequences of min length '\n",
        "      f'{MIN_LENGTH} and max length {MAX_LENGTH} for {len(organisms)} '\n",
        "      'organisms...\\n')\n",
        "\n",
        "dna_sequences = []\n",
        "organism_labels = []\n",
        "\n",
        "for organism in tqdm.tqdm(organisms[0:3], desc='Organisms'):\n",
        "  print(organism, flush=True)\n",
        "  sequences = fetch_random_dna(\n",
        "      organism, min_length=MIN_LENGTH, max_length=MAX_LENGTH,\n",
        "      num_sequences=NUM_SEQUENCES)\n",
        "  dna_sequences += sequences\n",
        "  organism_labels += [organism] * len(sequences)"
      ]
    },
    {
      "cell_type": "markdown",
      "metadata": {
        "id": "mIs-VYPDgRKE"
      },
      "source": [
        "But this takes a few minutes to run if we wanted say 20 DNA sequences for each of the 10 organisms, so for speed, we pre-fetched some sequences for convenience:"
      ]
    },
    {
      "cell_type": "code",
      "source": [
        "dna_sequences"
      ],
      "metadata": {
        "colab": {
          "base_uri": "https://localhost:8080/",
          "height": 423
        },
        "id": "JK14bY4VOu48",
        "outputId": "9445a3e5-297b-47ac-9fc8-9dd2994c2355"
      },
      "execution_count": null,
      "outputs": [
        {
          "output_type": "execute_result",
          "data": {
            "text/plain": [
              "                                              sequence                organism\n",
              "0    ATCGCTTCTCGGCCTTTTGGCTAAGATCAAGTGTAGTATCTGTTCT...            Homo sapiens\n",
              "1    ATACTCTGGTTTCTCTTCAGATCGCATAAATCTTTCGCCTTTTACT...            Homo sapiens\n",
              "2    NGCTTTGCGCAGTGGCAGTATCGTAGCCAATGAGGTCTATCCGAGG...            Homo sapiens\n",
              "3    ATCAATATCCACCTGCAGATACTACCAAAAGTGTATTTGGAAACTG...            Homo sapiens\n",
              "4    GGGAGGTTTCCTTGAAGCTTTCGTGCTGACCCTGTCCCTTTTTTTT...            Homo sapiens\n",
              "..                                                 ...                     ...\n",
              "195  CGGCGGAGATCTCGAACTACGTCAACATCCAGCGGAAGAAGAAGGT...  Pseudomonas aeruginosa\n",
              "196  GCTTGCTCATCAGACACCTCTCTCACGGCGAGGATTCTCGCCTAAA...  Pseudomonas aeruginosa\n",
              "197  ATGAGCGGCGTCGCCCGCGAGGCCATGGAGGACGTCGCGCCGGCGG...  Pseudomonas aeruginosa\n",
              "198  ATGCTGATCCGCGCCGCAACCTCGACCCTGCTGGTGGTCGATATCC...  Pseudomonas aeruginosa\n",
              "199  GAGGGTGTGCAGAATTTTGTGTAACCGGGGTTAGGGTTACTGCTGC...  Pseudomonas aeruginosa\n",
              "\n",
              "[200 rows x 2 columns]"
            ],
            "text/html": [
              "\n",
              "  <div id=\"df-075c0bf9-3260-4c45-b787-69b5c241fc28\" class=\"colab-df-container\">\n",
              "    <div>\n",
              "<style scoped>\n",
              "    .dataframe tbody tr th:only-of-type {\n",
              "        vertical-align: middle;\n",
              "    }\n",
              "\n",
              "    .dataframe tbody tr th {\n",
              "        vertical-align: top;\n",
              "    }\n",
              "\n",
              "    .dataframe thead th {\n",
              "        text-align: right;\n",
              "    }\n",
              "</style>\n",
              "<table border=\"1\" class=\"dataframe\">\n",
              "  <thead>\n",
              "    <tr style=\"text-align: right;\">\n",
              "      <th></th>\n",
              "      <th>sequence</th>\n",
              "      <th>organism</th>\n",
              "    </tr>\n",
              "  </thead>\n",
              "  <tbody>\n",
              "    <tr>\n",
              "      <th>0</th>\n",
              "      <td>ATCGCTTCTCGGCCTTTTGGCTAAGATCAAGTGTAGTATCTGTTCT...</td>\n",
              "      <td>Homo sapiens</td>\n",
              "    </tr>\n",
              "    <tr>\n",
              "      <th>1</th>\n",
              "      <td>ATACTCTGGTTTCTCTTCAGATCGCATAAATCTTTCGCCTTTTACT...</td>\n",
              "      <td>Homo sapiens</td>\n",
              "    </tr>\n",
              "    <tr>\n",
              "      <th>2</th>\n",
              "      <td>NGCTTTGCGCAGTGGCAGTATCGTAGCCAATGAGGTCTATCCGAGG...</td>\n",
              "      <td>Homo sapiens</td>\n",
              "    </tr>\n",
              "    <tr>\n",
              "      <th>3</th>\n",
              "      <td>ATCAATATCCACCTGCAGATACTACCAAAAGTGTATTTGGAAACTG...</td>\n",
              "      <td>Homo sapiens</td>\n",
              "    </tr>\n",
              "    <tr>\n",
              "      <th>4</th>\n",
              "      <td>GGGAGGTTTCCTTGAAGCTTTCGTGCTGACCCTGTCCCTTTTTTTT...</td>\n",
              "      <td>Homo sapiens</td>\n",
              "    </tr>\n",
              "    <tr>\n",
              "      <th>...</th>\n",
              "      <td>...</td>\n",
              "      <td>...</td>\n",
              "    </tr>\n",
              "    <tr>\n",
              "      <th>195</th>\n",
              "      <td>CGGCGGAGATCTCGAACTACGTCAACATCCAGCGGAAGAAGAAGGT...</td>\n",
              "      <td>Pseudomonas aeruginosa</td>\n",
              "    </tr>\n",
              "    <tr>\n",
              "      <th>196</th>\n",
              "      <td>GCTTGCTCATCAGACACCTCTCTCACGGCGAGGATTCTCGCCTAAA...</td>\n",
              "      <td>Pseudomonas aeruginosa</td>\n",
              "    </tr>\n",
              "    <tr>\n",
              "      <th>197</th>\n",
              "      <td>ATGAGCGGCGTCGCCCGCGAGGCCATGGAGGACGTCGCGCCGGCGG...</td>\n",
              "      <td>Pseudomonas aeruginosa</td>\n",
              "    </tr>\n",
              "    <tr>\n",
              "      <th>198</th>\n",
              "      <td>ATGCTGATCCGCGCCGCAACCTCGACCCTGCTGGTGGTCGATATCC...</td>\n",
              "      <td>Pseudomonas aeruginosa</td>\n",
              "    </tr>\n",
              "    <tr>\n",
              "      <th>199</th>\n",
              "      <td>GAGGGTGTGCAGAATTTTGTGTAACCGGGGTTAGGGTTACTGCTGC...</td>\n",
              "      <td>Pseudomonas aeruginosa</td>\n",
              "    </tr>\n",
              "  </tbody>\n",
              "</table>\n",
              "<p>200 rows × 2 columns</p>\n",
              "</div>\n",
              "    <div class=\"colab-df-buttons\">\n",
              "\n",
              "  <div class=\"colab-df-container\">\n",
              "    <button class=\"colab-df-convert\" onclick=\"convertToInteractive('df-075c0bf9-3260-4c45-b787-69b5c241fc28')\"\n",
              "            title=\"Convert this dataframe to an interactive table.\"\n",
              "            style=\"display:none;\">\n",
              "\n",
              "  <svg xmlns=\"http://www.w3.org/2000/svg\" height=\"24px\" viewBox=\"0 -960 960 960\">\n",
              "    <path d=\"M120-120v-720h720v720H120Zm60-500h600v-160H180v160Zm220 220h160v-160H400v160Zm0 220h160v-160H400v160ZM180-400h160v-160H180v160Zm440 0h160v-160H620v160ZM180-180h160v-160H180v160Zm440 0h160v-160H620v160Z\"/>\n",
              "  </svg>\n",
              "    </button>\n",
              "\n",
              "  <style>\n",
              "    .colab-df-container {\n",
              "      display:flex;\n",
              "      gap: 12px;\n",
              "    }\n",
              "\n",
              "    .colab-df-convert {\n",
              "      background-color: #E8F0FE;\n",
              "      border: none;\n",
              "      border-radius: 50%;\n",
              "      cursor: pointer;\n",
              "      display: none;\n",
              "      fill: #1967D2;\n",
              "      height: 32px;\n",
              "      padding: 0 0 0 0;\n",
              "      width: 32px;\n",
              "    }\n",
              "\n",
              "    .colab-df-convert:hover {\n",
              "      background-color: #E2EBFA;\n",
              "      box-shadow: 0px 1px 2px rgba(60, 64, 67, 0.3), 0px 1px 3px 1px rgba(60, 64, 67, 0.15);\n",
              "      fill: #174EA6;\n",
              "    }\n",
              "\n",
              "    .colab-df-buttons div {\n",
              "      margin-bottom: 4px;\n",
              "    }\n",
              "\n",
              "    [theme=dark] .colab-df-convert {\n",
              "      background-color: #3B4455;\n",
              "      fill: #D2E3FC;\n",
              "    }\n",
              "\n",
              "    [theme=dark] .colab-df-convert:hover {\n",
              "      background-color: #434B5C;\n",
              "      box-shadow: 0px 1px 3px 1px rgba(0, 0, 0, 0.15);\n",
              "      filter: drop-shadow(0px 1px 2px rgba(0, 0, 0, 0.3));\n",
              "      fill: #FFFFFF;\n",
              "    }\n",
              "  </style>\n",
              "\n",
              "    <script>\n",
              "      const buttonEl =\n",
              "        document.querySelector('#df-075c0bf9-3260-4c45-b787-69b5c241fc28 button.colab-df-convert');\n",
              "      buttonEl.style.display =\n",
              "        google.colab.kernel.accessAllowed ? 'block' : 'none';\n",
              "\n",
              "      async function convertToInteractive(key) {\n",
              "        const element = document.querySelector('#df-075c0bf9-3260-4c45-b787-69b5c241fc28');\n",
              "        const dataTable =\n",
              "          await google.colab.kernel.invokeFunction('convertToInteractive',\n",
              "                                                    [key], {});\n",
              "        if (!dataTable) return;\n",
              "\n",
              "        const docLinkHtml = 'Like what you see? Visit the ' +\n",
              "          '<a target=\"_blank\" href=https://colab.research.google.com/notebooks/data_table.ipynb>data table notebook</a>'\n",
              "          + ' to learn more about interactive tables.';\n",
              "        element.innerHTML = '';\n",
              "        dataTable['output_type'] = 'display_data';\n",
              "        await google.colab.output.renderOutput(dataTable, element);\n",
              "        const docLink = document.createElement('div');\n",
              "        docLink.innerHTML = docLinkHtml;\n",
              "        element.appendChild(docLink);\n",
              "      }\n",
              "    </script>\n",
              "  </div>\n",
              "\n",
              "\n",
              "<div id=\"df-bdb04213-8eb4-4fa0-9265-ea6bf5459cc3\">\n",
              "  <button class=\"colab-df-quickchart\" onclick=\"quickchart('df-bdb04213-8eb4-4fa0-9265-ea6bf5459cc3')\"\n",
              "            title=\"Suggest charts\"\n",
              "            style=\"display:none;\">\n",
              "\n",
              "<svg xmlns=\"http://www.w3.org/2000/svg\" height=\"24px\"viewBox=\"0 0 24 24\"\n",
              "     width=\"24px\">\n",
              "    <g>\n",
              "        <path d=\"M19 3H5c-1.1 0-2 .9-2 2v14c0 1.1.9 2 2 2h14c1.1 0 2-.9 2-2V5c0-1.1-.9-2-2-2zM9 17H7v-7h2v7zm4 0h-2V7h2v10zm4 0h-2v-4h2v4z\"/>\n",
              "    </g>\n",
              "</svg>\n",
              "  </button>\n",
              "\n",
              "<style>\n",
              "  .colab-df-quickchart {\n",
              "      --bg-color: #E8F0FE;\n",
              "      --fill-color: #1967D2;\n",
              "      --hover-bg-color: #E2EBFA;\n",
              "      --hover-fill-color: #174EA6;\n",
              "      --disabled-fill-color: #AAA;\n",
              "      --disabled-bg-color: #DDD;\n",
              "  }\n",
              "\n",
              "  [theme=dark] .colab-df-quickchart {\n",
              "      --bg-color: #3B4455;\n",
              "      --fill-color: #D2E3FC;\n",
              "      --hover-bg-color: #434B5C;\n",
              "      --hover-fill-color: #FFFFFF;\n",
              "      --disabled-bg-color: #3B4455;\n",
              "      --disabled-fill-color: #666;\n",
              "  }\n",
              "\n",
              "  .colab-df-quickchart {\n",
              "    background-color: var(--bg-color);\n",
              "    border: none;\n",
              "    border-radius: 50%;\n",
              "    cursor: pointer;\n",
              "    display: none;\n",
              "    fill: var(--fill-color);\n",
              "    height: 32px;\n",
              "    padding: 0;\n",
              "    width: 32px;\n",
              "  }\n",
              "\n",
              "  .colab-df-quickchart:hover {\n",
              "    background-color: var(--hover-bg-color);\n",
              "    box-shadow: 0 1px 2px rgba(60, 64, 67, 0.3), 0 1px 3px 1px rgba(60, 64, 67, 0.15);\n",
              "    fill: var(--button-hover-fill-color);\n",
              "  }\n",
              "\n",
              "  .colab-df-quickchart-complete:disabled,\n",
              "  .colab-df-quickchart-complete:disabled:hover {\n",
              "    background-color: var(--disabled-bg-color);\n",
              "    fill: var(--disabled-fill-color);\n",
              "    box-shadow: none;\n",
              "  }\n",
              "\n",
              "  .colab-df-spinner {\n",
              "    border: 2px solid var(--fill-color);\n",
              "    border-color: transparent;\n",
              "    border-bottom-color: var(--fill-color);\n",
              "    animation:\n",
              "      spin 1s steps(1) infinite;\n",
              "  }\n",
              "\n",
              "  @keyframes spin {\n",
              "    0% {\n",
              "      border-color: transparent;\n",
              "      border-bottom-color: var(--fill-color);\n",
              "      border-left-color: var(--fill-color);\n",
              "    }\n",
              "    20% {\n",
              "      border-color: transparent;\n",
              "      border-left-color: var(--fill-color);\n",
              "      border-top-color: var(--fill-color);\n",
              "    }\n",
              "    30% {\n",
              "      border-color: transparent;\n",
              "      border-left-color: var(--fill-color);\n",
              "      border-top-color: var(--fill-color);\n",
              "      border-right-color: var(--fill-color);\n",
              "    }\n",
              "    40% {\n",
              "      border-color: transparent;\n",
              "      border-right-color: var(--fill-color);\n",
              "      border-top-color: var(--fill-color);\n",
              "    }\n",
              "    60% {\n",
              "      border-color: transparent;\n",
              "      border-right-color: var(--fill-color);\n",
              "    }\n",
              "    80% {\n",
              "      border-color: transparent;\n",
              "      border-right-color: var(--fill-color);\n",
              "      border-bottom-color: var(--fill-color);\n",
              "    }\n",
              "    90% {\n",
              "      border-color: transparent;\n",
              "      border-bottom-color: var(--fill-color);\n",
              "    }\n",
              "  }\n",
              "</style>\n",
              "\n",
              "  <script>\n",
              "    async function quickchart(key) {\n",
              "      const quickchartButtonEl =\n",
              "        document.querySelector('#' + key + ' button');\n",
              "      quickchartButtonEl.disabled = true;  // To prevent multiple clicks.\n",
              "      quickchartButtonEl.classList.add('colab-df-spinner');\n",
              "      try {\n",
              "        const charts = await google.colab.kernel.invokeFunction(\n",
              "            'suggestCharts', [key], {});\n",
              "      } catch (error) {\n",
              "        console.error('Error during call to suggestCharts:', error);\n",
              "      }\n",
              "      quickchartButtonEl.classList.remove('colab-df-spinner');\n",
              "      quickchartButtonEl.classList.add('colab-df-quickchart-complete');\n",
              "    }\n",
              "    (() => {\n",
              "      let quickchartButtonEl =\n",
              "        document.querySelector('#df-bdb04213-8eb4-4fa0-9265-ea6bf5459cc3 button');\n",
              "      quickchartButtonEl.style.display =\n",
              "        google.colab.kernel.accessAllowed ? 'block' : 'none';\n",
              "    })();\n",
              "  </script>\n",
              "</div>\n",
              "\n",
              "  <div id=\"id_d7dd6877-d5be-4a89-8f22-18e825575933\">\n",
              "    <style>\n",
              "      .colab-df-generate {\n",
              "        background-color: #E8F0FE;\n",
              "        border: none;\n",
              "        border-radius: 50%;\n",
              "        cursor: pointer;\n",
              "        display: none;\n",
              "        fill: #1967D2;\n",
              "        height: 32px;\n",
              "        padding: 0 0 0 0;\n",
              "        width: 32px;\n",
              "      }\n",
              "\n",
              "      .colab-df-generate:hover {\n",
              "        background-color: #E2EBFA;\n",
              "        box-shadow: 0px 1px 2px rgba(60, 64, 67, 0.3), 0px 1px 3px 1px rgba(60, 64, 67, 0.15);\n",
              "        fill: #174EA6;\n",
              "      }\n",
              "\n",
              "      [theme=dark] .colab-df-generate {\n",
              "        background-color: #3B4455;\n",
              "        fill: #D2E3FC;\n",
              "      }\n",
              "\n",
              "      [theme=dark] .colab-df-generate:hover {\n",
              "        background-color: #434B5C;\n",
              "        box-shadow: 0px 1px 3px 1px rgba(0, 0, 0, 0.15);\n",
              "        filter: drop-shadow(0px 1px 2px rgba(0, 0, 0, 0.3));\n",
              "        fill: #FFFFFF;\n",
              "      }\n",
              "    </style>\n",
              "    <button class=\"colab-df-generate\" onclick=\"generateWithVariable('dna_sequences')\"\n",
              "            title=\"Generate code using this dataframe.\"\n",
              "            style=\"display:none;\">\n",
              "\n",
              "  <svg xmlns=\"http://www.w3.org/2000/svg\" height=\"24px\"viewBox=\"0 0 24 24\"\n",
              "       width=\"24px\">\n",
              "    <path d=\"M7,19H8.4L18.45,9,17,7.55,7,17.6ZM5,21V16.75L18.45,3.32a2,2,0,0,1,2.83,0l1.4,1.43a1.91,1.91,0,0,1,.58,1.4,1.91,1.91,0,0,1-.58,1.4L9.25,21ZM18.45,9,17,7.55Zm-12,3A5.31,5.31,0,0,0,4.9,8.1,5.31,5.31,0,0,0,1,6.5,5.31,5.31,0,0,0,4.9,4.9,5.31,5.31,0,0,0,6.5,1,5.31,5.31,0,0,0,8.1,4.9,5.31,5.31,0,0,0,12,6.5,5.46,5.46,0,0,0,6.5,12Z\"/>\n",
              "  </svg>\n",
              "    </button>\n",
              "    <script>\n",
              "      (() => {\n",
              "      const buttonEl =\n",
              "        document.querySelector('#id_d7dd6877-d5be-4a89-8f22-18e825575933 button.colab-df-generate');\n",
              "      buttonEl.style.display =\n",
              "        google.colab.kernel.accessAllowed ? 'block' : 'none';\n",
              "\n",
              "      buttonEl.onclick = () => {\n",
              "        google.colab.notebook.generateWithVariable('dna_sequences');\n",
              "      }\n",
              "      })();\n",
              "    </script>\n",
              "  </div>\n",
              "\n",
              "    </div>\n",
              "  </div>\n"
            ],
            "application/vnd.google.colaboratory.intrinsic+json": {
              "type": "dataframe",
              "variable_name": "dna_sequences",
              "summary": "{\n  \"name\": \"dna_sequences\",\n  \"rows\": 200,\n  \"fields\": [\n    {\n      \"column\": \"sequence\",\n      \"properties\": {\n        \"dtype\": \"string\",\n        \"num_unique_values\": 157,\n        \"samples\": [\n          \"TCATCCCTGCGGGGCAGGGAAGGCAGTAGCCGGGTTACAGAAGCCAAGCGTGCACCATCTTTAAGGTTAAAGTCAGGAATAACATTAAAGATTTCTTTGCTTCTTGCCAGAAAGCCTTCAATAGTTCCTCCTGGCTGTCGTTCGTAAATCAGTGTGAATGTCTCGGGAGTACATGTTCCACCGGTAAGTTTCCAGCCTTCTAGCGCGACCGGTGATGGTTTTCGAAGGTCCGCGCAGGCTTTCAGAAAATCACTGATTACAGGTTGTGACGCCCATGGATGCGGGAGCTCCGGTGGTGGTTCGGGCTTTTTAAACTGTAATCTTGCCCGTGCAGCTATCTCCTCGGCGGTCGGTCCGACATCAGGCTCTGGCTGAGTCATCCAGAATACTGTGCCTGCGCCGGCCGCTACTAAAACCACTACGCCAGGAAGTGTGAATTTGCTGCGATAGCCGACAGTAAGTTTGCAACGGCGGAGGTCTGCTGATGATACCCGGGTAATAATACTTTCCCAGTTATCAGGATGTTCCAGAGACGATACAACCTGCCATTTTTCGGGGGGCTCTTCGTTCATCGCCAGAAAAAGGCTGACCTTTTGGGCAACATCGGCATCATTTCCTGATAAGTCAGCCATAACGGCAGGCTGGCCATTAATGGAAGCAAGGAATAAGAGTTCCTTATCGCTGTACCGGAAGAGAGCGTATCCATTTGTGACCCATGAGCAGAAAGCCAGTGCCAGGGAAAAATAATGATTGCGTTCTGGCCTGGTCAGTATTCCTGTGCCGGTAAGGCGGCTGATCTTTCCACGGGAATTTCTGCTGCCTACAGTCACTTTCAGGGAGGTAAGCCGTCTGGGTTTTACATGAGACTTGTGTTTATGATGTGAGGGGACGCGCTGTTTTTTTACGACAGGAGTCCATTTAAGACAGGCAGCCCACACGCGATGATTTACTTTAGGATCTGCGAGAAGCACTACCGGGTTGATATCTTCATCAGCCATTA\",\n          \"TTGCATTTTTAGTGGAGACAGGGAACTTAAGGGAATTTCAACCTGTCTCTCCTAATCTCTCAATTTTCCTATCGTCTTCCTAAATTTTGTTACTTTCTATGGATGCAATATTTTATACTTCTCTGAGACTGTAGGGAGCATGCCTTCTGAACTTTCCTTGAATAGAAGTCATGGCACCAGAAGGAAGAAGGAACTTAGAGACTTGTTTCTATGGAGGTAAGTTGTCTGTTTGAAAATATTTGTCTTTATTTTTTGCATTTTTAAAAACTGTTGAACACTCATGTTTGCCTGTGCAATTAGCAATAAGGCTGAAATAGAGATGGTCACAGGCTCATTTCACATTGGGACAAGAGGAAGTGGCCTTCACATGGGAAGAGTGATTTCCTCTGGGAATCCCTAAACTGATGGTTTTCTCCATGTGAGTATTCCCTTCACTGTAAGGCCACAAGTGTGATGAATATGAAAACATACCCTCCTCCTGGCAATGACGATCTCTGCCTGGCCACCCTAGGACCACAGATCTGCTTCTTTCACTAAAACTTGGTGGTATCTTATAGAATTACATGTAAATACAGTACGTACTCAGGTCTTTGTGCATCGTTCTGATCTGGCTTCTTTTATTCAGCAGAACTACTTTCAGAGTCACTCTGTTCTGAGTGAATCAATAGTCCATTCATTTTCACACTGAGCCACGTGCCATGGTGTGGATGTGCCACAACTTGTTCACCCTTCTTCTGTGTATGGGCATTTGGGGGCTCCTGGTTTGGAACCATTAAGCATAATGATGTCATGAATATTTCTTTATGTATGTAGCCTGTGAACTTTCCTTCATTTCTCATAGTTCATTCCTAGGAGTGCAGTGGCCACATCATGTCATGGTAGGTATGCATCGACCTTGCTAAGGAACCCCTGCCCCTTGTCGTAAGTGTTTGGTCCATTCTCTCATTTCTCCCTTGCTCCCTCTGATTTAGTCATACTAACTTCTTGTCTCCTTCACCCT\",\n          \"GCATAATGTTATCCTGTTTAATCACAAATGATTCTCTTATTTCTTTGAGATTCTCTACGCTTATCCGTGCTGATGCAAGAAGTACTTTACCGCCAGTGAACACACTGACAGTGTGAAACTTACCTTATGAATATCAAAATGGAGTGAATTCATGAGACAATACTCTATTAATAACGAATTTATTTATAATGAGTCGTTAAGAGAAATAATATCATTACATGATAAAAAAGTGCTAAAGATGACGTTAATGCGTGCGCGCTGCTTAAGCTATCTTATTGAAAACGCCTACAGGAAGTTGATTACGCGAGAAATGATTTCACACGCAGTTTGGGGAGAGCGAAGTCAATTTGTTAGCGATGCTAATTTGACGCAACTTCTTTATCTGCTGCGACGAGATTTACAACAAATCGGGCTTTTCGAACTGTTCGTTACACTCCCCAGGCAGGGGATAAAAATCGATGAAAGATTTATCATTGACGCTGCTGACATACCGCCACAAGCTATTCAATATCATACTCACCGATGTAATAAAATTATATCCATTGGTATTCCCACTCTTTTTTTATTGATCGTACTTTTCTTTTTAGCGCCGTTTATCTGAAGATAAAGTCTGTAGACCGTGTCCCGGGAAGGTGAGAACATTTTTCATAATATCCTCACACGACACTGACGGGACACCATCTGCGGTCTGCTACGCGGTTCAGTCATAGACAATGCGTAGCACTGTTAATTGCTTATCTTCATCCAAATAATCTCGTTTTACCGTTGCATGAGGAGACGATATCGGCGTGATAATATTCTCGACAATAATATAACGTTCAACTCCCTGTTTATTATGGCATTGAATTTCTAAGGTTCCCACGTCATTCCAGCAGCCTGCCTCAACAACCGATCCCATAAAATGAATCTGAGCGGTCGGTTTCGCTGTCCCTTCATGAACGATAAAGGAAAGTAAAATCACCGGTATGACGCAACGCATAGACTTCATTTTACTTTCACT\"\n        ],\n        \"semantic_type\": \"\",\n        \"description\": \"\"\n      }\n    },\n    {\n      \"column\": \"organism\",\n      \"properties\": {\n        \"dtype\": \"category\",\n        \"num_unique_values\": 10,\n        \"samples\": [\n          \"Salmonella enterica\",\n          \"Pan troglodytes\",\n          \"Hydrochoerus hydrochaeris\"\n        ],\n        \"semantic_type\": \"\",\n        \"description\": \"\"\n      }\n    }\n  ]\n}"
            }
          },
          "metadata": {},
          "execution_count": 32
        }
      ]
    },
    {
      "cell_type": "markdown",
      "source": [
        "We can build on our earlier code to extract the mean sequence embeddings of DNA strings:"
      ],
      "metadata": {
        "id": "TMzlFGizQbor"
      }
    },
    {
      "cell_type": "code",
      "execution_count": null,
      "metadata": {
        "id": "W-1hLFeQ3Gwp"
      },
      "outputs": [],
      "source": [
        "def _compute_mean_sequence_embeddings(\n",
        "  dna_sequences: list[str],\n",
        "  tokenizer: AutoTokenizer,\n",
        "  model: AutoModelForMaskedLM):\n",
        "\n",
        "  max_length = tokenizer.model_max_length\n",
        "  tokens_ids = tokenizer.batch_encode_plus(\n",
        "    dna_sequences, return_tensors=\"pt\", padding=\"max_length\",\n",
        "    max_length=max_length)[\"input_ids\"]\n",
        "\n",
        "  # Compute the embeddings.\n",
        "  attention_mask = tokens_ids != tokenizer.pad_token_id\n",
        "\n",
        "  # Move model and tensors to GPU.\n",
        "  model = model.to('cuda')\n",
        "  tokens_ids = tokens_ids.to('cuda')\n",
        "  attention_mask = attention_mask.to('cuda')\n",
        "\n",
        "  # By default, PyTorch retains the computation graph for backward pass, but this\n",
        "  # fills up RAM and we don't need it, so we disable this with torch.no_grad().\n",
        "  with torch.no_grad():\n",
        "    torch_outs = model(\n",
        "      tokens_ids,\n",
        "      attention_mask=attention_mask,\n",
        "      encoder_attention_mask=attention_mask,\n",
        "      output_hidden_states=True,\n",
        "    )\n",
        "\n",
        "  # Compute sequences embeddings.\n",
        "  embeddings = torch_outs['hidden_states'][-1].detach().cpu()\n",
        "\n",
        "  # Add embed dimension axis.\n",
        "  attention_mask_cpu = torch.unsqueeze(attention_mask.cpu(), dim=-1)\n",
        "\n",
        "  # Compute mean embeddings per sequence\n",
        "  mean_sequence_embeddings = torch.sum(\n",
        "    attention_mask_cpu * embeddings, axis=-2) / torch.sum(attention_mask_cpu, axis=1)\n",
        "\n",
        "  return mean_sequence_embeddings.numpy()\n",
        "\n",
        "\n",
        "def compute_mean_sequence_embeddings(\n",
        "    dna_sequences: list[str],\n",
        "    tokenizer: AutoTokenizer,\n",
        "    model: AutoModelForMaskedLM,\n",
        "    batch_size: int = 20) -> np.ndarray:\n",
        "  \"\"\"Computes mean sequence embeddings for a list of DNA strings.\"\"\"\n",
        "  all_mean_embeddings = []\n",
        "\n",
        "  for i in tqdm.tqdm(range(0, len(dna_sequences), batch_size)):\n",
        "    batch_sequences = dna_sequences[i:i+batch_size]\n",
        "    batch_mean_embeddings = _compute_mean_sequence_embeddings(\n",
        "        batch_sequences, tokenizer, model)\n",
        "    all_mean_embeddings.extend(batch_mean_embeddings)\n",
        "\n",
        "  return np.vstack(all_mean_embeddings)\n"
      ]
    },
    {
      "cell_type": "code",
      "source": [
        "embeddings = compute_mean_sequence_embeddings(\n",
        "    dna_sequences['sequence'], tokenizer, language_model)"
      ],
      "metadata": {
        "colab": {
          "base_uri": "https://localhost:8080/"
        },
        "id": "sF77cUxYn1WQ",
        "outputId": "c325992d-2771-4b0a-a1f8-5b6fdd1b3a36"
      },
      "execution_count": null,
      "outputs": [
        {
          "output_type": "stream",
          "name": "stderr",
          "text": [
            "100%|██████████| 10/10 [00:08<00:00,  1.13it/s]\n"
          ]
        }
      ]
    },
    {
      "cell_type": "markdown",
      "source": [
        "This gives us an embedding of length 512 for each of the 200 DNA strings:"
      ],
      "metadata": {
        "id": "6AyrRWPrQxaJ"
      }
    },
    {
      "cell_type": "code",
      "source": [
        "embeddings.shape"
      ],
      "metadata": {
        "colab": {
          "base_uri": "https://localhost:8080/"
        },
        "id": "ieeTRVEAQwOO",
        "outputId": "5a575eb6-b0fb-4b2e-fbd7-3501d29b9b92"
      },
      "execution_count": null,
      "outputs": [
        {
          "output_type": "execute_result",
          "data": {
            "text/plain": [
              "(200, 512)"
            ]
          },
          "metadata": {},
          "execution_count": 40
        }
      ]
    },
    {
      "cell_type": "markdown",
      "source": [
        "It would be great to visualise these. But since humans can't really visualise things in 512-dimensional space, let's first use a dimensionality reduction technique to project the data down to 2 dimensions:"
      ],
      "metadata": {
        "id": "qV0ZDnTSQ2Uy"
      }
    },
    {
      "cell_type": "markdown",
      "metadata": {
        "id": "Om98cXpk7qtc"
      },
      "source": [
        "To see if similar types of DNA sequence coming from similar types of species cluster together, we can label each token with either its species label or a more general label like \"animal\" or \"plant\", and replot the plot and colour by label:"
      ]
    },
    {
      "cell_type": "code",
      "execution_count": null,
      "metadata": {
        "id": "NXkFl0eRHdNd"
      },
      "outputs": [],
      "source": [
        "%%capture\n",
        "umap = UMAP(n_components=2, random_state=42)\n",
        "embeddings_umap = umap.fit_transform(embeddings)\n",
        "\n",
        "embeddings_umap_df = pd.DataFrame(\n",
        "    embeddings_umap, columns=['first_dim', 'second_dim'])\n",
        "\n",
        "embeddings_umap_df['organism'] = dna_sequences['organism']"
      ]
    },
    {
      "cell_type": "markdown",
      "source": [
        "This gives 2 numbers for each original DNA sequence that still capture some notion of meaning in the DNA:"
      ],
      "metadata": {
        "id": "xFRDlSRmRZtz"
      }
    },
    {
      "cell_type": "code",
      "source": [
        "embeddings_umap_df"
      ],
      "metadata": {
        "colab": {
          "base_uri": "https://localhost:8080/",
          "height": 423
        },
        "id": "UA_mfaX0RLaM",
        "outputId": "05a26142-8ff9-4b8d-8cbc-f73078d70e24"
      },
      "execution_count": null,
      "outputs": [
        {
          "output_type": "execute_result",
          "data": {
            "text/plain": [
              "     first_dim  second_dim                organism     label\n",
              "0     2.346452    7.735291            Homo sapiens    animal\n",
              "1     0.533603    7.527058            Homo sapiens    animal\n",
              "2     0.205693    7.170348            Homo sapiens    animal\n",
              "3     1.070282    7.741261            Homo sapiens    animal\n",
              "4     0.069148    7.312357            Homo sapiens    animal\n",
              "..         ...         ...                     ...       ...\n",
              "195   3.175597    7.188712  Pseudomonas aeruginosa  bacteria\n",
              "196  15.273973    7.074193  Pseudomonas aeruginosa  bacteria\n",
              "197  16.992876    6.275274  Pseudomonas aeruginosa  bacteria\n",
              "198  16.859295    6.775774  Pseudomonas aeruginosa  bacteria\n",
              "199  16.065416    6.614821  Pseudomonas aeruginosa  bacteria\n",
              "\n",
              "[200 rows x 4 columns]"
            ],
            "text/html": [
              "\n",
              "  <div id=\"df-48f89c25-e8ac-4299-9e7d-b001b82dc359\" class=\"colab-df-container\">\n",
              "    <div>\n",
              "<style scoped>\n",
              "    .dataframe tbody tr th:only-of-type {\n",
              "        vertical-align: middle;\n",
              "    }\n",
              "\n",
              "    .dataframe tbody tr th {\n",
              "        vertical-align: top;\n",
              "    }\n",
              "\n",
              "    .dataframe thead th {\n",
              "        text-align: right;\n",
              "    }\n",
              "</style>\n",
              "<table border=\"1\" class=\"dataframe\">\n",
              "  <thead>\n",
              "    <tr style=\"text-align: right;\">\n",
              "      <th></th>\n",
              "      <th>first_dim</th>\n",
              "      <th>second_dim</th>\n",
              "      <th>organism</th>\n",
              "      <th>label</th>\n",
              "    </tr>\n",
              "  </thead>\n",
              "  <tbody>\n",
              "    <tr>\n",
              "      <th>0</th>\n",
              "      <td>2.346452</td>\n",
              "      <td>7.735291</td>\n",
              "      <td>Homo sapiens</td>\n",
              "      <td>animal</td>\n",
              "    </tr>\n",
              "    <tr>\n",
              "      <th>1</th>\n",
              "      <td>0.533603</td>\n",
              "      <td>7.527058</td>\n",
              "      <td>Homo sapiens</td>\n",
              "      <td>animal</td>\n",
              "    </tr>\n",
              "    <tr>\n",
              "      <th>2</th>\n",
              "      <td>0.205693</td>\n",
              "      <td>7.170348</td>\n",
              "      <td>Homo sapiens</td>\n",
              "      <td>animal</td>\n",
              "    </tr>\n",
              "    <tr>\n",
              "      <th>3</th>\n",
              "      <td>1.070282</td>\n",
              "      <td>7.741261</td>\n",
              "      <td>Homo sapiens</td>\n",
              "      <td>animal</td>\n",
              "    </tr>\n",
              "    <tr>\n",
              "      <th>4</th>\n",
              "      <td>0.069148</td>\n",
              "      <td>7.312357</td>\n",
              "      <td>Homo sapiens</td>\n",
              "      <td>animal</td>\n",
              "    </tr>\n",
              "    <tr>\n",
              "      <th>...</th>\n",
              "      <td>...</td>\n",
              "      <td>...</td>\n",
              "      <td>...</td>\n",
              "      <td>...</td>\n",
              "    </tr>\n",
              "    <tr>\n",
              "      <th>195</th>\n",
              "      <td>3.175597</td>\n",
              "      <td>7.188712</td>\n",
              "      <td>Pseudomonas aeruginosa</td>\n",
              "      <td>bacteria</td>\n",
              "    </tr>\n",
              "    <tr>\n",
              "      <th>196</th>\n",
              "      <td>15.273973</td>\n",
              "      <td>7.074193</td>\n",
              "      <td>Pseudomonas aeruginosa</td>\n",
              "      <td>bacteria</td>\n",
              "    </tr>\n",
              "    <tr>\n",
              "      <th>197</th>\n",
              "      <td>16.992876</td>\n",
              "      <td>6.275274</td>\n",
              "      <td>Pseudomonas aeruginosa</td>\n",
              "      <td>bacteria</td>\n",
              "    </tr>\n",
              "    <tr>\n",
              "      <th>198</th>\n",
              "      <td>16.859295</td>\n",
              "      <td>6.775774</td>\n",
              "      <td>Pseudomonas aeruginosa</td>\n",
              "      <td>bacteria</td>\n",
              "    </tr>\n",
              "    <tr>\n",
              "      <th>199</th>\n",
              "      <td>16.065416</td>\n",
              "      <td>6.614821</td>\n",
              "      <td>Pseudomonas aeruginosa</td>\n",
              "      <td>bacteria</td>\n",
              "    </tr>\n",
              "  </tbody>\n",
              "</table>\n",
              "<p>200 rows × 4 columns</p>\n",
              "</div>\n",
              "    <div class=\"colab-df-buttons\">\n",
              "\n",
              "  <div class=\"colab-df-container\">\n",
              "    <button class=\"colab-df-convert\" onclick=\"convertToInteractive('df-48f89c25-e8ac-4299-9e7d-b001b82dc359')\"\n",
              "            title=\"Convert this dataframe to an interactive table.\"\n",
              "            style=\"display:none;\">\n",
              "\n",
              "  <svg xmlns=\"http://www.w3.org/2000/svg\" height=\"24px\" viewBox=\"0 -960 960 960\">\n",
              "    <path d=\"M120-120v-720h720v720H120Zm60-500h600v-160H180v160Zm220 220h160v-160H400v160Zm0 220h160v-160H400v160ZM180-400h160v-160H180v160Zm440 0h160v-160H620v160ZM180-180h160v-160H180v160Zm440 0h160v-160H620v160Z\"/>\n",
              "  </svg>\n",
              "    </button>\n",
              "\n",
              "  <style>\n",
              "    .colab-df-container {\n",
              "      display:flex;\n",
              "      gap: 12px;\n",
              "    }\n",
              "\n",
              "    .colab-df-convert {\n",
              "      background-color: #E8F0FE;\n",
              "      border: none;\n",
              "      border-radius: 50%;\n",
              "      cursor: pointer;\n",
              "      display: none;\n",
              "      fill: #1967D2;\n",
              "      height: 32px;\n",
              "      padding: 0 0 0 0;\n",
              "      width: 32px;\n",
              "    }\n",
              "\n",
              "    .colab-df-convert:hover {\n",
              "      background-color: #E2EBFA;\n",
              "      box-shadow: 0px 1px 2px rgba(60, 64, 67, 0.3), 0px 1px 3px 1px rgba(60, 64, 67, 0.15);\n",
              "      fill: #174EA6;\n",
              "    }\n",
              "\n",
              "    .colab-df-buttons div {\n",
              "      margin-bottom: 4px;\n",
              "    }\n",
              "\n",
              "    [theme=dark] .colab-df-convert {\n",
              "      background-color: #3B4455;\n",
              "      fill: #D2E3FC;\n",
              "    }\n",
              "\n",
              "    [theme=dark] .colab-df-convert:hover {\n",
              "      background-color: #434B5C;\n",
              "      box-shadow: 0px 1px 3px 1px rgba(0, 0, 0, 0.15);\n",
              "      filter: drop-shadow(0px 1px 2px rgba(0, 0, 0, 0.3));\n",
              "      fill: #FFFFFF;\n",
              "    }\n",
              "  </style>\n",
              "\n",
              "    <script>\n",
              "      const buttonEl =\n",
              "        document.querySelector('#df-48f89c25-e8ac-4299-9e7d-b001b82dc359 button.colab-df-convert');\n",
              "      buttonEl.style.display =\n",
              "        google.colab.kernel.accessAllowed ? 'block' : 'none';\n",
              "\n",
              "      async function convertToInteractive(key) {\n",
              "        const element = document.querySelector('#df-48f89c25-e8ac-4299-9e7d-b001b82dc359');\n",
              "        const dataTable =\n",
              "          await google.colab.kernel.invokeFunction('convertToInteractive',\n",
              "                                                    [key], {});\n",
              "        if (!dataTable) return;\n",
              "\n",
              "        const docLinkHtml = 'Like what you see? Visit the ' +\n",
              "          '<a target=\"_blank\" href=https://colab.research.google.com/notebooks/data_table.ipynb>data table notebook</a>'\n",
              "          + ' to learn more about interactive tables.';\n",
              "        element.innerHTML = '';\n",
              "        dataTable['output_type'] = 'display_data';\n",
              "        await google.colab.output.renderOutput(dataTable, element);\n",
              "        const docLink = document.createElement('div');\n",
              "        docLink.innerHTML = docLinkHtml;\n",
              "        element.appendChild(docLink);\n",
              "      }\n",
              "    </script>\n",
              "  </div>\n",
              "\n",
              "\n",
              "<div id=\"df-4f304a34-5742-4a8f-bdce-f7760db87bdb\">\n",
              "  <button class=\"colab-df-quickchart\" onclick=\"quickchart('df-4f304a34-5742-4a8f-bdce-f7760db87bdb')\"\n",
              "            title=\"Suggest charts\"\n",
              "            style=\"display:none;\">\n",
              "\n",
              "<svg xmlns=\"http://www.w3.org/2000/svg\" height=\"24px\"viewBox=\"0 0 24 24\"\n",
              "     width=\"24px\">\n",
              "    <g>\n",
              "        <path d=\"M19 3H5c-1.1 0-2 .9-2 2v14c0 1.1.9 2 2 2h14c1.1 0 2-.9 2-2V5c0-1.1-.9-2-2-2zM9 17H7v-7h2v7zm4 0h-2V7h2v10zm4 0h-2v-4h2v4z\"/>\n",
              "    </g>\n",
              "</svg>\n",
              "  </button>\n",
              "\n",
              "<style>\n",
              "  .colab-df-quickchart {\n",
              "      --bg-color: #E8F0FE;\n",
              "      --fill-color: #1967D2;\n",
              "      --hover-bg-color: #E2EBFA;\n",
              "      --hover-fill-color: #174EA6;\n",
              "      --disabled-fill-color: #AAA;\n",
              "      --disabled-bg-color: #DDD;\n",
              "  }\n",
              "\n",
              "  [theme=dark] .colab-df-quickchart {\n",
              "      --bg-color: #3B4455;\n",
              "      --fill-color: #D2E3FC;\n",
              "      --hover-bg-color: #434B5C;\n",
              "      --hover-fill-color: #FFFFFF;\n",
              "      --disabled-bg-color: #3B4455;\n",
              "      --disabled-fill-color: #666;\n",
              "  }\n",
              "\n",
              "  .colab-df-quickchart {\n",
              "    background-color: var(--bg-color);\n",
              "    border: none;\n",
              "    border-radius: 50%;\n",
              "    cursor: pointer;\n",
              "    display: none;\n",
              "    fill: var(--fill-color);\n",
              "    height: 32px;\n",
              "    padding: 0;\n",
              "    width: 32px;\n",
              "  }\n",
              "\n",
              "  .colab-df-quickchart:hover {\n",
              "    background-color: var(--hover-bg-color);\n",
              "    box-shadow: 0 1px 2px rgba(60, 64, 67, 0.3), 0 1px 3px 1px rgba(60, 64, 67, 0.15);\n",
              "    fill: var(--button-hover-fill-color);\n",
              "  }\n",
              "\n",
              "  .colab-df-quickchart-complete:disabled,\n",
              "  .colab-df-quickchart-complete:disabled:hover {\n",
              "    background-color: var(--disabled-bg-color);\n",
              "    fill: var(--disabled-fill-color);\n",
              "    box-shadow: none;\n",
              "  }\n",
              "\n",
              "  .colab-df-spinner {\n",
              "    border: 2px solid var(--fill-color);\n",
              "    border-color: transparent;\n",
              "    border-bottom-color: var(--fill-color);\n",
              "    animation:\n",
              "      spin 1s steps(1) infinite;\n",
              "  }\n",
              "\n",
              "  @keyframes spin {\n",
              "    0% {\n",
              "      border-color: transparent;\n",
              "      border-bottom-color: var(--fill-color);\n",
              "      border-left-color: var(--fill-color);\n",
              "    }\n",
              "    20% {\n",
              "      border-color: transparent;\n",
              "      border-left-color: var(--fill-color);\n",
              "      border-top-color: var(--fill-color);\n",
              "    }\n",
              "    30% {\n",
              "      border-color: transparent;\n",
              "      border-left-color: var(--fill-color);\n",
              "      border-top-color: var(--fill-color);\n",
              "      border-right-color: var(--fill-color);\n",
              "    }\n",
              "    40% {\n",
              "      border-color: transparent;\n",
              "      border-right-color: var(--fill-color);\n",
              "      border-top-color: var(--fill-color);\n",
              "    }\n",
              "    60% {\n",
              "      border-color: transparent;\n",
              "      border-right-color: var(--fill-color);\n",
              "    }\n",
              "    80% {\n",
              "      border-color: transparent;\n",
              "      border-right-color: var(--fill-color);\n",
              "      border-bottom-color: var(--fill-color);\n",
              "    }\n",
              "    90% {\n",
              "      border-color: transparent;\n",
              "      border-bottom-color: var(--fill-color);\n",
              "    }\n",
              "  }\n",
              "</style>\n",
              "\n",
              "  <script>\n",
              "    async function quickchart(key) {\n",
              "      const quickchartButtonEl =\n",
              "        document.querySelector('#' + key + ' button');\n",
              "      quickchartButtonEl.disabled = true;  // To prevent multiple clicks.\n",
              "      quickchartButtonEl.classList.add('colab-df-spinner');\n",
              "      try {\n",
              "        const charts = await google.colab.kernel.invokeFunction(\n",
              "            'suggestCharts', [key], {});\n",
              "      } catch (error) {\n",
              "        console.error('Error during call to suggestCharts:', error);\n",
              "      }\n",
              "      quickchartButtonEl.classList.remove('colab-df-spinner');\n",
              "      quickchartButtonEl.classList.add('colab-df-quickchart-complete');\n",
              "    }\n",
              "    (() => {\n",
              "      let quickchartButtonEl =\n",
              "        document.querySelector('#df-4f304a34-5742-4a8f-bdce-f7760db87bdb button');\n",
              "      quickchartButtonEl.style.display =\n",
              "        google.colab.kernel.accessAllowed ? 'block' : 'none';\n",
              "    })();\n",
              "  </script>\n",
              "</div>\n",
              "\n",
              "  <div id=\"id_571d6b8e-a2e7-45c7-9dca-f72f75cef08c\">\n",
              "    <style>\n",
              "      .colab-df-generate {\n",
              "        background-color: #E8F0FE;\n",
              "        border: none;\n",
              "        border-radius: 50%;\n",
              "        cursor: pointer;\n",
              "        display: none;\n",
              "        fill: #1967D2;\n",
              "        height: 32px;\n",
              "        padding: 0 0 0 0;\n",
              "        width: 32px;\n",
              "      }\n",
              "\n",
              "      .colab-df-generate:hover {\n",
              "        background-color: #E2EBFA;\n",
              "        box-shadow: 0px 1px 2px rgba(60, 64, 67, 0.3), 0px 1px 3px 1px rgba(60, 64, 67, 0.15);\n",
              "        fill: #174EA6;\n",
              "      }\n",
              "\n",
              "      [theme=dark] .colab-df-generate {\n",
              "        background-color: #3B4455;\n",
              "        fill: #D2E3FC;\n",
              "      }\n",
              "\n",
              "      [theme=dark] .colab-df-generate:hover {\n",
              "        background-color: #434B5C;\n",
              "        box-shadow: 0px 1px 3px 1px rgba(0, 0, 0, 0.15);\n",
              "        filter: drop-shadow(0px 1px 2px rgba(0, 0, 0, 0.3));\n",
              "        fill: #FFFFFF;\n",
              "      }\n",
              "    </style>\n",
              "    <button class=\"colab-df-generate\" onclick=\"generateWithVariable('embeddings_umap_df')\"\n",
              "            title=\"Generate code using this dataframe.\"\n",
              "            style=\"display:none;\">\n",
              "\n",
              "  <svg xmlns=\"http://www.w3.org/2000/svg\" height=\"24px\"viewBox=\"0 0 24 24\"\n",
              "       width=\"24px\">\n",
              "    <path d=\"M7,19H8.4L18.45,9,17,7.55,7,17.6ZM5,21V16.75L18.45,3.32a2,2,0,0,1,2.83,0l1.4,1.43a1.91,1.91,0,0,1,.58,1.4,1.91,1.91,0,0,1-.58,1.4L9.25,21ZM18.45,9,17,7.55Zm-12,3A5.31,5.31,0,0,0,4.9,8.1,5.31,5.31,0,0,0,1,6.5,5.31,5.31,0,0,0,4.9,4.9,5.31,5.31,0,0,0,6.5,1,5.31,5.31,0,0,0,8.1,4.9,5.31,5.31,0,0,0,12,6.5,5.46,5.46,0,0,0,6.5,12Z\"/>\n",
              "  </svg>\n",
              "    </button>\n",
              "    <script>\n",
              "      (() => {\n",
              "      const buttonEl =\n",
              "        document.querySelector('#id_571d6b8e-a2e7-45c7-9dca-f72f75cef08c button.colab-df-generate');\n",
              "      buttonEl.style.display =\n",
              "        google.colab.kernel.accessAllowed ? 'block' : 'none';\n",
              "\n",
              "      buttonEl.onclick = () => {\n",
              "        google.colab.notebook.generateWithVariable('embeddings_umap_df');\n",
              "      }\n",
              "      })();\n",
              "    </script>\n",
              "  </div>\n",
              "\n",
              "    </div>\n",
              "  </div>\n"
            ],
            "application/vnd.google.colaboratory.intrinsic+json": {
              "type": "dataframe",
              "variable_name": "embeddings_umap_df",
              "summary": "{\n  \"name\": \"embeddings_umap_df\",\n  \"rows\": 200,\n  \"fields\": [\n    {\n      \"column\": \"first_dim\",\n      \"properties\": {\n        \"dtype\": \"float32\",\n        \"num_unique_values\": 200,\n        \"samples\": [\n          11.9541597366333,\n          2.314263105392456,\n          14.901511192321777\n        ],\n        \"semantic_type\": \"\",\n        \"description\": \"\"\n      }\n    },\n    {\n      \"column\": \"second_dim\",\n      \"properties\": {\n        \"dtype\": \"float32\",\n        \"num_unique_values\": 200,\n        \"samples\": [\n          10.888522148132324,\n          7.710865020751953,\n          10.169957160949707\n        ],\n        \"semantic_type\": \"\",\n        \"description\": \"\"\n      }\n    },\n    {\n      \"column\": \"organism\",\n      \"properties\": {\n        \"dtype\": \"category\",\n        \"num_unique_values\": 10,\n        \"samples\": [\n          \"Salmonella enterica\",\n          \"Pan troglodytes\",\n          \"Hydrochoerus hydrochaeris\"\n        ],\n        \"semantic_type\": \"\",\n        \"description\": \"\"\n      }\n    },\n    {\n      \"column\": \"label\",\n      \"properties\": {\n        \"dtype\": \"category\",\n        \"num_unique_values\": 2,\n        \"samples\": [\n          \"bacteria\",\n          \"animal\"\n        ],\n        \"semantic_type\": \"\",\n        \"description\": \"\"\n      }\n    }\n  ]\n}"
            }
          },
          "metadata": {},
          "execution_count": 55
        }
      ]
    },
    {
      "cell_type": "markdown",
      "source": [
        "We can now more easily visualise these, and also color each DNA sequence by the type of organism it comes from:"
      ],
      "metadata": {
        "id": "FOkRja1fRzUb"
      }
    },
    {
      "cell_type": "code",
      "execution_count": null,
      "metadata": {
        "colab": {
          "base_uri": "https://localhost:8080/",
          "height": 487
        },
        "id": "-P9EbSObHuDn",
        "outputId": "1d54abe4-a820-4e14-8478-807b1ab44d74"
      },
      "outputs": [
        {
          "output_type": "display_data",
          "data": {
            "text/plain": [
              "<Figure size 640x480 with 1 Axes>"
            ],
            "image/png": "[encoded data removed]"
          },
          "metadata": {}
        }
      ],
      "source": [
        "labels = {\n",
        "    'Homo sapiens': 'animal',\n",
        "    'Pan paniscus': 'animal',\n",
        "    'Pan troglodytes': 'animal',\n",
        "    'Tursiops truncatus': 'animal',\n",
        "    'Hydrochoerus hydrochaeris': 'animal',\n",
        "    'Escherichia coli': 'bacteria',\n",
        "    'Pseudomonas aeruginosa': 'bacteria',\n",
        "    'Lactobacillus acidophilus': 'bacteria',\n",
        "    'Salmonella enterica': 'bacteria',\n",
        "    }\n",
        "\n",
        "embeddings_umap_df['label'] = embeddings_umap_df['organism'].map(labels)\n",
        "\n",
        "ax = sns.scatterplot(data=embeddings_umap_df,\n",
        "                x='first_dim',\n",
        "                y='second_dim',\n",
        "                hue='label', color=None,\n",
        "                s=200, alpha=0.7, palette='Set2')\n",
        "\n",
        "plt.legend(loc='center left', bbox_to_anchor=(1, 0.5))\n",
        "\n",
        "plt.tight_layout()"
      ]
    },
    {
      "cell_type": "markdown",
      "metadata": {
        "id": "manXg5mkfRqU"
      },
      "source": [
        "It appears that while animal vs. bacteria sequences do tend to occupy somewhat different parts of the embedding space, there is certainly a lot of overlap, suggesting that genomes across the tree of life share a lot of similarities.\n",
        "\n",
        "**Question**: Is this what you expected to see?\n",
        "\n",
        "In case you're interested in learning more about animal vs. bacterial genomes, here are some fun facts:\n",
        "- ***Similarities***:\n",
        "  - **Basic genetic code**: Both animal and bacterial genomes use the same genetic code, with DNA sequences composed of the same four nucleotides: adenine (A), cytosine (C), guanine (G), and thymine (T).\n",
        "  - **Conserved genes**: Many fundamental genes involved in essential processes, such as DNA replication, transcription, and translation, are conserved across both animals and bacteria.\n",
        "- ***Differences***:\n",
        "  - **Genome size**: Animal genomes are typically much larger (humans have 3.2 billion DNA bases) while bacterial genomes are smaller (few hundred thousand to a few million).\n",
        "  - **Chromosomes**: Animals have multiple linear chromosomes, while bacteria typically have a single circular chromosome.\n",
        "  - **Gene density**: Bacterial genomes are more gene-dense, while animal genomes are more sparse and have more regulatory elements.\n",
        "  - **Gene structure**: Animal genes often contain introns (non-coding regions within genes) whereas bacterial genes generally don't.\n",
        "\n",
        "**Question**: Which of these differences could be captured by the embeddings above?"
      ]
    },
    {
      "cell_type": "markdown",
      "metadata": {
        "id": "iZnCLa1xHjTQ"
      },
      "source": [
        "**Task**:\n",
        "- Try grabbing some DNA sequences for other species, for example some plant species. Here are a few scientific plant names:\n",
        "```python\n",
        " plants = [\n",
        "  'Oryza sativa',  # Rice\n",
        "  'Vitis vinifera',  # Grape\n",
        "  'Rosa chinensis',  # Rose\n",
        "  'Musa acuminata',  # Banana\n",
        "  'Solanum lycopersicum', # Tomato\n",
        " ]\n",
        " ```\n",
        "- Try a different dimensionality reduction technique such as tSNE instead of UMAP. Does the scatter plot look different? How sensitive is the scatter plot to changes in the random seed or the other settings?\n",
        " - Hint: here is a snippet to get you started with tSNE.\n",
        "\n",
        "```python\n",
        "tsne = TSNE(\n",
        "    n_components=2, learning_rate='auto', init='pca', random_state=0)\n",
        "embeddings_tsne = tsne.fit_transform(embeddings)\n",
        "```"
      ]
    },
    {
      "cell_type": "markdown",
      "metadata": {
        "id": "z19k8a3Pc3Mo"
      },
      "source": [
        "## 3. Fine-tuning a DNA language model"
      ]
    },
    {
      "cell_type": "markdown",
      "source": [
        "In this final section, we will be adapting our DNA language model to a new task by **fine-tuning**.\n",
        "\n",
        "### What is fine-tuning?\n",
        "Fine-tuning is the process of taking a **pre-trained model** and making slight adjustments so it can perform a new, specialised task.\n",
        "\n",
        "Instead of training a model from scratch, which can be very time-consuming and require a lot of data, we start with a model that already understands some general concepts. We then train it further on a smaller, task-specific dataset.\n",
        "\n",
        "**Pre-training followed up fine-tuning** is a general pattern across machine learning. Here are some examples from natural language and DNA language:\n",
        "\n",
        "\n",
        "<a href=\"https://ibb.co/tpd50VH\"><img src=\"https://i.ibb.co/CKrFjRw/ML-for-bio-06.png\" alt=\"NLP vs DNA\" border=\"0\" width=\"400\"></a>\n",
        "\n",
        "\n",
        "### The biological problem\n",
        "\n",
        "--> **We will be training a model to predict whether a given string of 200 DNA bases will bind a given transcription factor**.\n",
        "\n",
        "Transcription factors (TFs) are special proteins that bind to DNA and play a crucial role in turning genes on or off.  They are essential because they control the expression of genes, which in turn affects how cells function, develop, and respond to their environment. For example, they can determine whether a cell becomes a muscle cell, a neuron, or a skin cell.\n",
        "\n",
        "Here is an image of a transcription factor (purple) binding to a certain region of DNA (highlighted in yellow):\n",
        "\n",
        "<div align=\"center\">\n",
        "    <img src=\"https://www.nichd.nih.gov/sites/default/files/2022-05/TranscriptionFactor-400px.jpg\" alt=\"DNA TF binding\" width=\"400\">\n",
        "</div>\n",
        "\n",
        "\n",
        "\n",
        "\n",
        "\n",
        "\n",
        "Each transcription factor has a certain **binding preference** – it prefers to bind to a specific sequence of DNA bases and not others. This is because the 3D shapes of the TF and the DNA region can fit together well or not.\n",
        "\n",
        "Humans have over 1,000 transcription factors. We will look at a specific transcription factor called CTCF, which tends to bind to sequences similar to CCACCAGGGGGCGC (with some variation being ok in some positions).\n",
        "\n",
        "Here is the prediction problem in visual terms:\n",
        "\n",
        "\n",
        "- For a specific string of 200 DNA base pairs, we want to predict the probability that a given **transcription factor** will bind in that region.\n"
      ],
      "metadata": {
        "id": "dAqyowcEIr9z"
      }
    },
    {
      "cell_type": "markdown",
      "source": [
        "## The dataset"
      ],
      "metadata": {
        "id": "ZFxmnixIOSad"
      }
    },
    {
      "cell_type": "markdown",
      "source": [
        "The dataset we will use looks like this:\n",
        "\n",
        "<a href=\"https://ibb.co/1ZbY3SF\"><img src=\"https://i.ibb.co/PxtsRSq/ML-for-bio-05.png\" alt=\"dataset description\" border=\"0\"></a>\n",
        "\n",
        "The task is a **binary classification task** – given 200 DNA bases, we predict whether it will bind a specific transcription factor called CTCF. CTCF is actually a particularly interesting transcription factor, because it is involved in **genome architecture**, or the elaborate 3D folding of the genome into specific compartments.\n",
        "\n",
        "The problem is inspired by one of the eval tasks in this recent [2024 paper preprint](https://www.ncbi.nlm.nih.gov/pmc/articles/PMC10925287/), which sourced the dataset from this [2023 genomics interpretation paper](https://www.ncbi.nlm.nih.gov/pmc/articles/PMC10169356/)"
      ],
      "metadata": {
        "id": "tcMjRbwISHrZ"
      }
    },
    {
      "cell_type": "markdown",
      "source": [
        "#### Loading the dataset."
      ],
      "metadata": {
        "id": "igkX3Ur3iam3"
      }
    },
    {
      "cell_type": "markdown",
      "source": [
        "The training dataset has already been constructed for you:\n",
        "- We have 20000 training examples.\n",
        "- Each one is a mean embedding of the DNA which was extracted using the NT language model.\n",
        "- The final column of the dataframe is the label, whether the DNA binds the protein CTCF or not"
      ],
      "metadata": {
        "id": "Iu9RMDPZSb2N"
      }
    },
    {
      "cell_type": "code",
      "source": [
        "train_df"
      ],
      "metadata": {
        "colab": {
          "base_uri": "https://localhost:8080/",
          "height": 443
        },
        "id": "rM6jQWgISajU",
        "outputId": "70dcc1a9-60c0-4282-d06d-08dd7c02258a"
      },
      "execution_count": null,
      "outputs": [
        {
          "output_type": "execute_result",
          "data": {
            "text/plain": [
              "              0         1         2         3         4         5         6  \\\n",
              "0     -0.218294  0.458433  0.161264  0.039273  0.058276  0.148854 -0.222005   \n",
              "1     -0.067925  0.225154  0.006398 -0.014639  0.142700  0.119179 -0.185538   \n",
              "2     -0.036475  0.166806 -0.110220 -0.063861  0.035262  0.140355 -0.094418   \n",
              "3     -0.038577  0.299374 -0.006287  0.069112  0.007021 -0.056337 -0.193584   \n",
              "4     -0.121926  0.188199  0.037032  0.075284  0.225169 -0.011111 -0.386876   \n",
              "...         ...       ...       ...       ...       ...       ...       ...   \n",
              "19995 -0.078043  0.331259  0.131127  0.100249  0.028453  0.080585 -0.193332   \n",
              "19996 -0.063739  0.334845 -0.036389  0.063847  0.024129  0.151293 -0.068272   \n",
              "19997  0.034282  0.272324  0.018301  0.014417  0.056953 -0.113989 -0.198752   \n",
              "19998 -0.250387  0.268849 -0.041865  0.161500 -0.054923  0.036519 -0.095240   \n",
              "19999  0.003681  0.395185  0.079378 -0.069340 -0.013813 -0.033584 -0.271186   \n",
              "\n",
              "              7         8         9  ...       503       504       505  \\\n",
              "0      0.349956 -0.022763 -0.036232  ... -0.115031 -0.101608 -0.131688   \n",
              "1      0.317545 -0.080420 -0.128703  ... -0.101675 -0.024956  0.054387   \n",
              "2      0.357013 -0.254630 -0.087556  ... -0.038874  0.002015  0.074428   \n",
              "3      0.285849 -0.031823  0.020912  ... -0.109446 -0.023728 -0.050979   \n",
              "4      0.291750 -0.004311 -0.066176  ... -0.149256 -0.040005 -0.033149   \n",
              "...         ...       ...       ...  ...       ...       ...       ...   \n",
              "19995  0.311815  0.005183 -0.141574  ... -0.010897 -0.206669 -0.012843   \n",
              "19996  0.188731 -0.029114  0.046915  ... -0.296587 -0.047178 -0.010477   \n",
              "19997  0.296758 -0.070834 -0.007001  ... -0.085053 -0.109676  0.005655   \n",
              "19998  0.246107 -0.054131 -0.035582  ... -0.019669  0.026877 -0.000252   \n",
              "19999  0.332251 -0.009954 -0.043439  ... -0.149588 -0.140985 -0.113899   \n",
              "\n",
              "            506       507       508       509       510       511  label  \n",
              "0     -0.062489 -0.023282 -0.120040 -0.134666 -0.144946 -0.170490      1  \n",
              "1     -0.076459  0.060703  0.041431 -0.081587  0.128414 -0.135343      0  \n",
              "2     -0.156386 -0.073927 -0.021240 -0.078350 -0.059282 -0.126573      1  \n",
              "3     -0.138136  0.140089 -0.075259 -0.107878 -0.064560  0.033162      1  \n",
              "4     -0.070501  0.092436  0.054635 -0.070980 -0.016162 -0.089470      1  \n",
              "...         ...       ...       ...       ...       ...       ...    ...  \n",
              "19995 -0.087495 -0.024101  0.051706 -0.067643 -0.068765 -0.260701      1  \n",
              "19996 -0.169960 -0.010948 -0.090587 -0.108105 -0.122106  0.003401      0  \n",
              "19997 -0.148586  0.077192 -0.167083 -0.023588 -0.090689 -0.077884      1  \n",
              "19998 -0.186203 -0.046831 -0.017148 -0.175654 -0.072578  0.006978      0  \n",
              "19999  0.007452 -0.105761 -0.001318 -0.119162 -0.188198 -0.298016      0  \n",
              "\n",
              "[20000 rows x 513 columns]"
            ],
            "text/html": [
              "\n",
              "  <div id=\"df-1256e9d3-2a2d-472c-87cb-5784c2784669\" class=\"colab-df-container\">\n",
              "    <div>\n",
              "<style scoped>\n",
              "    .dataframe tbody tr th:only-of-type {\n",
              "        vertical-align: middle;\n",
              "    }\n",
              "\n",
              "    .dataframe tbody tr th {\n",
              "        vertical-align: top;\n",
              "    }\n",
              "\n",
              "    .dataframe thead th {\n",
              "        text-align: right;\n",
              "    }\n",
              "</style>\n",
              "<table border=\"1\" class=\"dataframe\">\n",
              "  <thead>\n",
              "    <tr style=\"text-align: right;\">\n",
              "      <th></th>\n",
              "      <th>0</th>\n",
              "      <th>1</th>\n",
              "      <th>2</th>\n",
              "      <th>3</th>\n",
              "      <th>4</th>\n",
              "      <th>5</th>\n",
              "      <th>6</th>\n",
              "      <th>7</th>\n",
              "      <th>8</th>\n",
              "      <th>9</th>\n",
              "      <th>...</th>\n",
              "      <th>503</th>\n",
              "      <th>504</th>\n",
              "      <th>505</th>\n",
              "      <th>506</th>\n",
              "      <th>507</th>\n",
              "      <th>508</th>\n",
              "      <th>509</th>\n",
              "      <th>510</th>\n",
              "      <th>511</th>\n",
              "      <th>label</th>\n",
              "    </tr>\n",
              "  </thead>\n",
              "  <tbody>\n",
              "    <tr>\n",
              "      <th>0</th>\n",
              "      <td>-0.218294</td>\n",
              "      <td>0.458433</td>\n",
              "      <td>0.161264</td>\n",
              "      <td>0.039273</td>\n",
              "      <td>0.058276</td>\n",
              "      <td>0.148854</td>\n",
              "      <td>-0.222005</td>\n",
              "      <td>0.349956</td>\n",
              "      <td>-0.022763</td>\n",
              "      <td>-0.036232</td>\n",
              "      <td>...</td>\n",
              "      <td>-0.115031</td>\n",
              "      <td>-0.101608</td>\n",
              "      <td>-0.131688</td>\n",
              "      <td>-0.062489</td>\n",
              "      <td>-0.023282</td>\n",
              "      <td>-0.120040</td>\n",
              "      <td>-0.134666</td>\n",
              "      <td>-0.144946</td>\n",
              "      <td>-0.170490</td>\n",
              "      <td>1</td>\n",
              "    </tr>\n",
              "    <tr>\n",
              "      <th>1</th>\n",
              "      <td>-0.067925</td>\n",
              "      <td>0.225154</td>\n",
              "      <td>0.006398</td>\n",
              "      <td>-0.014639</td>\n",
              "      <td>0.142700</td>\n",
              "      <td>0.119179</td>\n",
              "      <td>-0.185538</td>\n",
              "      <td>0.317545</td>\n",
              "      <td>-0.080420</td>\n",
              "      <td>-0.128703</td>\n",
              "      <td>...</td>\n",
              "      <td>-0.101675</td>\n",
              "      <td>-0.024956</td>\n",
              "      <td>0.054387</td>\n",
              "      <td>-0.076459</td>\n",
              "      <td>0.060703</td>\n",
              "      <td>0.041431</td>\n",
              "      <td>-0.081587</td>\n",
              "      <td>0.128414</td>\n",
              "      <td>-0.135343</td>\n",
              "      <td>0</td>\n",
              "    </tr>\n",
              "    <tr>\n",
              "      <th>2</th>\n",
              "      <td>-0.036475</td>\n",
              "      <td>0.166806</td>\n",
              "      <td>-0.110220</td>\n",
              "      <td>-0.063861</td>\n",
              "      <td>0.035262</td>\n",
              "      <td>0.140355</td>\n",
              "      <td>-0.094418</td>\n",
              "      <td>0.357013</td>\n",
              "      <td>-0.254630</td>\n",
              "      <td>-0.087556</td>\n",
              "      <td>...</td>\n",
              "      <td>-0.038874</td>\n",
              "      <td>0.002015</td>\n",
              "      <td>0.074428</td>\n",
              "      <td>-0.156386</td>\n",
              "      <td>-0.073927</td>\n",
              "      <td>-0.021240</td>\n",
              "      <td>-0.078350</td>\n",
              "      <td>-0.059282</td>\n",
              "      <td>-0.126573</td>\n",
              "      <td>1</td>\n",
              "    </tr>\n",
              "    <tr>\n",
              "      <th>3</th>\n",
              "      <td>-0.038577</td>\n",
              "      <td>0.299374</td>\n",
              "      <td>-0.006287</td>\n",
              "      <td>0.069112</td>\n",
              "      <td>0.007021</td>\n",
              "      <td>-0.056337</td>\n",
              "      <td>-0.193584</td>\n",
              "      <td>0.285849</td>\n",
              "      <td>-0.031823</td>\n",
              "      <td>0.020912</td>\n",
              "      <td>...</td>\n",
              "      <td>-0.109446</td>\n",
              "      <td>-0.023728</td>\n",
              "      <td>-0.050979</td>\n",
              "      <td>-0.138136</td>\n",
              "      <td>0.140089</td>\n",
              "      <td>-0.075259</td>\n",
              "      <td>-0.107878</td>\n",
              "      <td>-0.064560</td>\n",
              "      <td>0.033162</td>\n",
              "      <td>1</td>\n",
              "    </tr>\n",
              "    <tr>\n",
              "      <th>4</th>\n",
              "      <td>-0.121926</td>\n",
              "      <td>0.188199</td>\n",
              "      <td>0.037032</td>\n",
              "      <td>0.075284</td>\n",
              "      <td>0.225169</td>\n",
              "      <td>-0.011111</td>\n",
              "      <td>-0.386876</td>\n",
              "      <td>0.291750</td>\n",
              "      <td>-0.004311</td>\n",
              "      <td>-0.066176</td>\n",
              "      <td>...</td>\n",
              "      <td>-0.149256</td>\n",
              "      <td>-0.040005</td>\n",
              "      <td>-0.033149</td>\n",
              "      <td>-0.070501</td>\n",
              "      <td>0.092436</td>\n",
              "      <td>0.054635</td>\n",
              "      <td>-0.070980</td>\n",
              "      <td>-0.016162</td>\n",
              "      <td>-0.089470</td>\n",
              "      <td>1</td>\n",
              "    </tr>\n",
              "    <tr>\n",
              "      <th>...</th>\n",
              "      <td>...</td>\n",
              "      <td>...</td>\n",
              "      <td>...</td>\n",
              "      <td>...</td>\n",
              "      <td>...</td>\n",
              "      <td>...</td>\n",
              "      <td>...</td>\n",
              "      <td>...</td>\n",
              "      <td>...</td>\n",
              "      <td>...</td>\n",
              "      <td>...</td>\n",
              "      <td>...</td>\n",
              "      <td>...</td>\n",
              "      <td>...</td>\n",
              "      <td>...</td>\n",
              "      <td>...</td>\n",
              "      <td>...</td>\n",
              "      <td>...</td>\n",
              "      <td>...</td>\n",
              "      <td>...</td>\n",
              "      <td>...</td>\n",
              "    </tr>\n",
              "    <tr>\n",
              "      <th>19995</th>\n",
              "      <td>-0.078043</td>\n",
              "      <td>0.331259</td>\n",
              "      <td>0.131127</td>\n",
              "      <td>0.100249</td>\n",
              "      <td>0.028453</td>\n",
              "      <td>0.080585</td>\n",
              "      <td>-0.193332</td>\n",
              "      <td>0.311815</td>\n",
              "      <td>0.005183</td>\n",
              "      <td>-0.141574</td>\n",
              "      <td>...</td>\n",
              "      <td>-0.010897</td>\n",
              "      <td>-0.206669</td>\n",
              "      <td>-0.012843</td>\n",
              "      <td>-0.087495</td>\n",
              "      <td>-0.024101</td>\n",
              "      <td>0.051706</td>\n",
              "      <td>-0.067643</td>\n",
              "      <td>-0.068765</td>\n",
              "      <td>-0.260701</td>\n",
              "      <td>1</td>\n",
              "    </tr>\n",
              "    <tr>\n",
              "      <th>19996</th>\n",
              "      <td>-0.063739</td>\n",
              "      <td>0.334845</td>\n",
              "      <td>-0.036389</td>\n",
              "      <td>0.063847</td>\n",
              "      <td>0.024129</td>\n",
              "      <td>0.151293</td>\n",
              "      <td>-0.068272</td>\n",
              "      <td>0.188731</td>\n",
              "      <td>-0.029114</td>\n",
              "      <td>0.046915</td>\n",
              "      <td>...</td>\n",
              "      <td>-0.296587</td>\n",
              "      <td>-0.047178</td>\n",
              "      <td>-0.010477</td>\n",
              "      <td>-0.169960</td>\n",
              "      <td>-0.010948</td>\n",
              "      <td>-0.090587</td>\n",
              "      <td>-0.108105</td>\n",
              "      <td>-0.122106</td>\n",
              "      <td>0.003401</td>\n",
              "      <td>0</td>\n",
              "    </tr>\n",
              "    <tr>\n",
              "      <th>19997</th>\n",
              "      <td>0.034282</td>\n",
              "      <td>0.272324</td>\n",
              "      <td>0.018301</td>\n",
              "      <td>0.014417</td>\n",
              "      <td>0.056953</td>\n",
              "      <td>-0.113989</td>\n",
              "      <td>-0.198752</td>\n",
              "      <td>0.296758</td>\n",
              "      <td>-0.070834</td>\n",
              "      <td>-0.007001</td>\n",
              "      <td>...</td>\n",
              "      <td>-0.085053</td>\n",
              "      <td>-0.109676</td>\n",
              "      <td>0.005655</td>\n",
              "      <td>-0.148586</td>\n",
              "      <td>0.077192</td>\n",
              "      <td>-0.167083</td>\n",
              "      <td>-0.023588</td>\n",
              "      <td>-0.090689</td>\n",
              "      <td>-0.077884</td>\n",
              "      <td>1</td>\n",
              "    </tr>\n",
              "    <tr>\n",
              "      <th>19998</th>\n",
              "      <td>-0.250387</td>\n",
              "      <td>0.268849</td>\n",
              "      <td>-0.041865</td>\n",
              "      <td>0.161500</td>\n",
              "      <td>-0.054923</td>\n",
              "      <td>0.036519</td>\n",
              "      <td>-0.095240</td>\n",
              "      <td>0.246107</td>\n",
              "      <td>-0.054131</td>\n",
              "      <td>-0.035582</td>\n",
              "      <td>...</td>\n",
              "      <td>-0.019669</td>\n",
              "      <td>0.026877</td>\n",
              "      <td>-0.000252</td>\n",
              "      <td>-0.186203</td>\n",
              "      <td>-0.046831</td>\n",
              "      <td>-0.017148</td>\n",
              "      <td>-0.175654</td>\n",
              "      <td>-0.072578</td>\n",
              "      <td>0.006978</td>\n",
              "      <td>0</td>\n",
              "    </tr>\n",
              "    <tr>\n",
              "      <th>19999</th>\n",
              "      <td>0.003681</td>\n",
              "      <td>0.395185</td>\n",
              "      <td>0.079378</td>\n",
              "      <td>-0.069340</td>\n",
              "      <td>-0.013813</td>\n",
              "      <td>-0.033584</td>\n",
              "      <td>-0.271186</td>\n",
              "      <td>0.332251</td>\n",
              "      <td>-0.009954</td>\n",
              "      <td>-0.043439</td>\n",
              "      <td>...</td>\n",
              "      <td>-0.149588</td>\n",
              "      <td>-0.140985</td>\n",
              "      <td>-0.113899</td>\n",
              "      <td>0.007452</td>\n",
              "      <td>-0.105761</td>\n",
              "      <td>-0.001318</td>\n",
              "      <td>-0.119162</td>\n",
              "      <td>-0.188198</td>\n",
              "      <td>-0.298016</td>\n",
              "      <td>0</td>\n",
              "    </tr>\n",
              "  </tbody>\n",
              "</table>\n",
              "<p>20000 rows × 513 columns</p>\n",
              "</div>\n",
              "    <div class=\"colab-df-buttons\">\n",
              "\n",
              "  <div class=\"colab-df-container\">\n",
              "    <button class=\"colab-df-convert\" onclick=\"convertToInteractive('df-1256e9d3-2a2d-472c-87cb-5784c2784669')\"\n",
              "            title=\"Convert this dataframe to an interactive table.\"\n",
              "            style=\"display:none;\">\n",
              "\n",
              "  <svg xmlns=\"http://www.w3.org/2000/svg\" height=\"24px\" viewBox=\"0 -960 960 960\">\n",
              "    <path d=\"M120-120v-720h720v720H120Zm60-500h600v-160H180v160Zm220 220h160v-160H400v160Zm0 220h160v-160H400v160ZM180-400h160v-160H180v160Zm440 0h160v-160H620v160ZM180-180h160v-160H180v160Zm440 0h160v-160H620v160Z\"/>\n",
              "  </svg>\n",
              "    </button>\n",
              "\n",
              "  <style>\n",
              "    .colab-df-container {\n",
              "      display:flex;\n",
              "      gap: 12px;\n",
              "    }\n",
              "\n",
              "    .colab-df-convert {\n",
              "      background-color: #E8F0FE;\n",
              "      border: none;\n",
              "      border-radius: 50%;\n",
              "      cursor: pointer;\n",
              "      display: none;\n",
              "      fill: #1967D2;\n",
              "      height: 32px;\n",
              "      padding: 0 0 0 0;\n",
              "      width: 32px;\n",
              "    }\n",
              "\n",
              "    .colab-df-convert:hover {\n",
              "      background-color: #E2EBFA;\n",
              "      box-shadow: 0px 1px 2px rgba(60, 64, 67, 0.3), 0px 1px 3px 1px rgba(60, 64, 67, 0.15);\n",
              "      fill: #174EA6;\n",
              "    }\n",
              "\n",
              "    .colab-df-buttons div {\n",
              "      margin-bottom: 4px;\n",
              "    }\n",
              "\n",
              "    [theme=dark] .colab-df-convert {\n",
              "      background-color: #3B4455;\n",
              "      fill: #D2E3FC;\n",
              "    }\n",
              "\n",
              "    [theme=dark] .colab-df-convert:hover {\n",
              "      background-color: #434B5C;\n",
              "      box-shadow: 0px 1px 3px 1px rgba(0, 0, 0, 0.15);\n",
              "      filter: drop-shadow(0px 1px 2px rgba(0, 0, 0, 0.3));\n",
              "      fill: #FFFFFF;\n",
              "    }\n",
              "  </style>\n",
              "\n",
              "    <script>\n",
              "      const buttonEl =\n",
              "        document.querySelector('#df-1256e9d3-2a2d-472c-87cb-5784c2784669 button.colab-df-convert');\n",
              "      buttonEl.style.display =\n",
              "        google.colab.kernel.accessAllowed ? 'block' : 'none';\n",
              "\n",
              "      async function convertToInteractive(key) {\n",
              "        const element = document.querySelector('#df-1256e9d3-2a2d-472c-87cb-5784c2784669');\n",
              "        const dataTable =\n",
              "          await google.colab.kernel.invokeFunction('convertToInteractive',\n",
              "                                                    [key], {});\n",
              "        if (!dataTable) return;\n",
              "\n",
              "        const docLinkHtml = 'Like what you see? Visit the ' +\n",
              "          '<a target=\"_blank\" href=https://colab.research.google.com/notebooks/data_table.ipynb>data table notebook</a>'\n",
              "          + ' to learn more about interactive tables.';\n",
              "        element.innerHTML = '';\n",
              "        dataTable['output_type'] = 'display_data';\n",
              "        await google.colab.output.renderOutput(dataTable, element);\n",
              "        const docLink = document.createElement('div');\n",
              "        docLink.innerHTML = docLinkHtml;\n",
              "        element.appendChild(docLink);\n",
              "      }\n",
              "    </script>\n",
              "  </div>\n",
              "\n",
              "\n",
              "<div id=\"df-99bd12c6-a6de-47d3-abfa-8d894ab9042d\">\n",
              "  <button class=\"colab-df-quickchart\" onclick=\"quickchart('df-99bd12c6-a6de-47d3-abfa-8d894ab9042d')\"\n",
              "            title=\"Suggest charts\"\n",
              "            style=\"display:none;\">\n",
              "\n",
              "<svg xmlns=\"http://www.w3.org/2000/svg\" height=\"24px\"viewBox=\"0 0 24 24\"\n",
              "     width=\"24px\">\n",
              "    <g>\n",
              "        <path d=\"M19 3H5c-1.1 0-2 .9-2 2v14c0 1.1.9 2 2 2h14c1.1 0 2-.9 2-2V5c0-1.1-.9-2-2-2zM9 17H7v-7h2v7zm4 0h-2V7h2v10zm4 0h-2v-4h2v4z\"/>\n",
              "    </g>\n",
              "</svg>\n",
              "  </button>\n",
              "\n",
              "<style>\n",
              "  .colab-df-quickchart {\n",
              "      --bg-color: #E8F0FE;\n",
              "      --fill-color: #1967D2;\n",
              "      --hover-bg-color: #E2EBFA;\n",
              "      --hover-fill-color: #174EA6;\n",
              "      --disabled-fill-color: #AAA;\n",
              "      --disabled-bg-color: #DDD;\n",
              "  }\n",
              "\n",
              "  [theme=dark] .colab-df-quickchart {\n",
              "      --bg-color: #3B4455;\n",
              "      --fill-color: #D2E3FC;\n",
              "      --hover-bg-color: #434B5C;\n",
              "      --hover-fill-color: #FFFFFF;\n",
              "      --disabled-bg-color: #3B4455;\n",
              "      --disabled-fill-color: #666;\n",
              "  }\n",
              "\n",
              "  .colab-df-quickchart {\n",
              "    background-color: var(--bg-color);\n",
              "    border: none;\n",
              "    border-radius: 50%;\n",
              "    cursor: pointer;\n",
              "    display: none;\n",
              "    fill: var(--fill-color);\n",
              "    height: 32px;\n",
              "    padding: 0;\n",
              "    width: 32px;\n",
              "  }\n",
              "\n",
              "  .colab-df-quickchart:hover {\n",
              "    background-color: var(--hover-bg-color);\n",
              "    box-shadow: 0 1px 2px rgba(60, 64, 67, 0.3), 0 1px 3px 1px rgba(60, 64, 67, 0.15);\n",
              "    fill: var(--button-hover-fill-color);\n",
              "  }\n",
              "\n",
              "  .colab-df-quickchart-complete:disabled,\n",
              "  .colab-df-quickchart-complete:disabled:hover {\n",
              "    background-color: var(--disabled-bg-color);\n",
              "    fill: var(--disabled-fill-color);\n",
              "    box-shadow: none;\n",
              "  }\n",
              "\n",
              "  .colab-df-spinner {\n",
              "    border: 2px solid var(--fill-color);\n",
              "    border-color: transparent;\n",
              "    border-bottom-color: var(--fill-color);\n",
              "    animation:\n",
              "      spin 1s steps(1) infinite;\n",
              "  }\n",
              "\n",
              "  @keyframes spin {\n",
              "    0% {\n",
              "      border-color: transparent;\n",
              "      border-bottom-color: var(--fill-color);\n",
              "      border-left-color: var(--fill-color);\n",
              "    }\n",
              "    20% {\n",
              "      border-color: transparent;\n",
              "      border-left-color: var(--fill-color);\n",
              "      border-top-color: var(--fill-color);\n",
              "    }\n",
              "    30% {\n",
              "      border-color: transparent;\n",
              "      border-left-color: var(--fill-color);\n",
              "      border-top-color: var(--fill-color);\n",
              "      border-right-color: var(--fill-color);\n",
              "    }\n",
              "    40% {\n",
              "      border-color: transparent;\n",
              "      border-right-color: var(--fill-color);\n",
              "      border-top-color: var(--fill-color);\n",
              "    }\n",
              "    60% {\n",
              "      border-color: transparent;\n",
              "      border-right-color: var(--fill-color);\n",
              "    }\n",
              "    80% {\n",
              "      border-color: transparent;\n",
              "      border-right-color: var(--fill-color);\n",
              "      border-bottom-color: var(--fill-color);\n",
              "    }\n",
              "    90% {\n",
              "      border-color: transparent;\n",
              "      border-bottom-color: var(--fill-color);\n",
              "    }\n",
              "  }\n",
              "</style>\n",
              "\n",
              "  <script>\n",
              "    async function quickchart(key) {\n",
              "      const quickchartButtonEl =\n",
              "        document.querySelector('#' + key + ' button');\n",
              "      quickchartButtonEl.disabled = true;  // To prevent multiple clicks.\n",
              "      quickchartButtonEl.classList.add('colab-df-spinner');\n",
              "      try {\n",
              "        const charts = await google.colab.kernel.invokeFunction(\n",
              "            'suggestCharts', [key], {});\n",
              "      } catch (error) {\n",
              "        console.error('Error during call to suggestCharts:', error);\n",
              "      }\n",
              "      quickchartButtonEl.classList.remove('colab-df-spinner');\n",
              "      quickchartButtonEl.classList.add('colab-df-quickchart-complete');\n",
              "    }\n",
              "    (() => {\n",
              "      let quickchartButtonEl =\n",
              "        document.querySelector('#df-99bd12c6-a6de-47d3-abfa-8d894ab9042d button');\n",
              "      quickchartButtonEl.style.display =\n",
              "        google.colab.kernel.accessAllowed ? 'block' : 'none';\n",
              "    })();\n",
              "  </script>\n",
              "</div>\n",
              "\n",
              "  <div id=\"id_2b244618-9935-42b6-b2f4-0cd62a85e271\">\n",
              "    <style>\n",
              "      .colab-df-generate {\n",
              "        background-color: #E8F0FE;\n",
              "        border: none;\n",
              "        border-radius: 50%;\n",
              "        cursor: pointer;\n",
              "        display: none;\n",
              "        fill: #1967D2;\n",
              "        height: 32px;\n",
              "        padding: 0 0 0 0;\n",
              "        width: 32px;\n",
              "      }\n",
              "\n",
              "      .colab-df-generate:hover {\n",
              "        background-color: #E2EBFA;\n",
              "        box-shadow: 0px 1px 2px rgba(60, 64, 67, 0.3), 0px 1px 3px 1px rgba(60, 64, 67, 0.15);\n",
              "        fill: #174EA6;\n",
              "      }\n",
              "\n",
              "      [theme=dark] .colab-df-generate {\n",
              "        background-color: #3B4455;\n",
              "        fill: #D2E3FC;\n",
              "      }\n",
              "\n",
              "      [theme=dark] .colab-df-generate:hover {\n",
              "        background-color: #434B5C;\n",
              "        box-shadow: 0px 1px 3px 1px rgba(0, 0, 0, 0.15);\n",
              "        filter: drop-shadow(0px 1px 2px rgba(0, 0, 0, 0.3));\n",
              "        fill: #FFFFFF;\n",
              "      }\n",
              "    </style>\n",
              "    <button class=\"colab-df-generate\" onclick=\"generateWithVariable('train_df')\"\n",
              "            title=\"Generate code using this dataframe.\"\n",
              "            style=\"display:none;\">\n",
              "\n",
              "  <svg xmlns=\"http://www.w3.org/2000/svg\" height=\"24px\"viewBox=\"0 0 24 24\"\n",
              "       width=\"24px\">\n",
              "    <path d=\"M7,19H8.4L18.45,9,17,7.55,7,17.6ZM5,21V16.75L18.45,3.32a2,2,0,0,1,2.83,0l1.4,1.43a1.91,1.91,0,0,1,.58,1.4,1.91,1.91,0,0,1-.58,1.4L9.25,21ZM18.45,9,17,7.55Zm-12,3A5.31,5.31,0,0,0,4.9,8.1,5.31,5.31,0,0,0,1,6.5,5.31,5.31,0,0,0,4.9,4.9,5.31,5.31,0,0,0,6.5,1,5.31,5.31,0,0,0,8.1,4.9,5.31,5.31,0,0,0,12,6.5,5.46,5.46,0,0,0,6.5,12Z\"/>\n",
              "  </svg>\n",
              "    </button>\n",
              "    <script>\n",
              "      (() => {\n",
              "      const buttonEl =\n",
              "        document.querySelector('#id_2b244618-9935-42b6-b2f4-0cd62a85e271 button.colab-df-generate');\n",
              "      buttonEl.style.display =\n",
              "        google.colab.kernel.accessAllowed ? 'block' : 'none';\n",
              "\n",
              "      buttonEl.onclick = () => {\n",
              "        google.colab.notebook.generateWithVariable('train_df');\n",
              "      }\n",
              "      })();\n",
              "    </script>\n",
              "  </div>\n",
              "\n",
              "    </div>\n",
              "  </div>\n"
            ],
            "application/vnd.google.colaboratory.intrinsic+json": {
              "type": "dataframe",
              "variable_name": "train_df"
            }
          },
          "metadata": {},
          "execution_count": 58
        }
      ]
    },
    {
      "cell_type": "markdown",
      "source": [
        "In general, it looks like the 2 classes are fairly balanced (equally represented) in the training dataset, meaning we won't have to do any rebalancing here:"
      ],
      "metadata": {
        "id": "LypwXKfYTj01"
      }
    },
    {
      "cell_type": "code",
      "source": [
        "train_df['label'].value_counts()"
      ],
      "metadata": {
        "colab": {
          "base_uri": "https://localhost:8080/",
          "height": 178
        },
        "id": "1Gx5qlSTTkW6",
        "outputId": "ab092b4c-df53-44dc-bb92-8ed3719e62d9"
      },
      "execution_count": null,
      "outputs": [
        {
          "output_type": "execute_result",
          "data": {
            "text/plain": [
              "label\n",
              "0    10081\n",
              "1     9919\n",
              "Name: count, dtype: int64"
            ],
            "text/html": [
              "<table border=\"1\" class=\"dataframe\">\n",
              "  <thead>\n",
              "    <tr style=\"text-align: right;\">\n",
              "      <th></th>\n",
              "      <th>count</th>\n",
              "    </tr>\n",
              "    <tr>\n",
              "      <th>label</th>\n",
              "      <th></th>\n",
              "    </tr>\n",
              "  </thead>\n",
              "  <tbody>\n",
              "    <tr>\n",
              "      <th>0</th>\n",
              "      <td>10081</td>\n",
              "    </tr>\n",
              "    <tr>\n",
              "      <th>1</th>\n",
              "      <td>9919</td>\n",
              "    </tr>\n",
              "  </tbody>\n",
              "</table><br><label><b>dtype:</b> int64</label>"
            ]
          },
          "metadata": {},
          "execution_count": 59
        }
      ]
    },
    {
      "cell_type": "markdown",
      "source": [
        "If you are interested, you can have a look at the code for how this dataset was generated, but you do not need to run it here."
      ],
      "metadata": {
        "id": "SL_5Ib2TS2bD"
      }
    },
    {
      "cell_type": "markdown",
      "source": [
        "#### [You don't need to run this] Dataset creation code.\n",
        "\n",
        "```python\n",
        "# 1. Load up the h5 file containing the CTCF datasets.\n",
        "file_path = os.path.join(ROOT_DIR, 'CTCF_200.h5')\n",
        "\n",
        "with h5py.File(file_path, 'r') as h5file:\n",
        "  print(\"Keys: %s\" % list(h5file.keys()))\n",
        "\n",
        "  # Access each dataset and convert to numpy arrays.\n",
        "  x_train = h5file['x_train'][()]\n",
        "  y_train = h5file['y_train'][()]\n",
        "  x_valid = h5file['x_valid'][()]\n",
        "  y_valid = h5file['y_valid'][()]\n",
        "  x_test = h5file['x_test'][()]\n",
        "  y_test = h5file['y_test'][()]\n",
        "\n",
        "# Each DNA sequence is one-hot encoded. Visualise the first training example:\n",
        "fig, ax = plt.subplots(figsize=(12, 12))\n",
        "plt.imshow(x_train[0, :, :])\n",
        "plt.show()\n",
        "\n",
        "# 2. Since our DNA language model actually takes letters as input, we can undo\n",
        "# the one-hot encoding with a function:\n",
        "\n",
        "def one_hot_to_dna_batch(one_hot_encoded_batch: np.ndarray):\n",
        "  \"\"\"\n",
        "  Convert a batch of one-hot encoded DNA sequences back to DNA sequence strings.\n",
        "\n",
        "  Args:\n",
        "    one_hot_encoded_batch (numpy.ndarray): A 3D numpy array with one-hot encoded\n",
        "      DNA sequences. Shape should be (num_sequences, sequence_length, 4).\n",
        "\n",
        "  Returns:\n",
        "    list: A list of DNA sequences.\n",
        "  \"\"\"\n",
        "  # Define a mapping from one-hot encoding to nucleotides.\n",
        "  one_hot_mapping = {\n",
        "      (1, 0, 0, 0): 'A',\n",
        "      (0, 1, 0, 0): 'C',\n",
        "      (0, 0, 1, 0): 'G',\n",
        "      (0, 0, 0, 1): 'T',\n",
        "  }\n",
        "\n",
        "  dna_sequences = []\n",
        "\n",
        "  for one_hot_encoded in one_hot_encoded_batch:\n",
        "    dna_sequence = []\n",
        "    for one_hot in one_hot_encoded:\n",
        "      one_hot_tuple = tuple(one_hot)\n",
        "      dna_sequence.append(one_hot_mapping[one_hot_tuple])\n",
        "\n",
        "    dna_sequences.append(''.join(dna_sequence))\n",
        "\n",
        "  return dna_sequences\n",
        "\n",
        "NUM_TRAIN_EXAMPLES = 20_000\n",
        "NUM_VALID_EXAMPLES = 5_000\n",
        "\n",
        "x_train = one_hot_to_dna_batch(\n",
        "    np.moveaxis(x_train, 1, -1)[0:NUM_TRAIN_EXAMPLES])\n",
        "y_train = y_train[0:NUM_TRAIN_EXAMPLES]\n",
        "\n",
        "x_valid = one_hot_to_dna_batch(\n",
        "    np.moveaxis(x_valid, 1, -1)[0:NUM_VALID_EXAMPLES])\n",
        "y_valid = y_valid[0:NUM_VALID_EXAMPLES]\n",
        "\n",
        "# Peek at training examples and labels:\n",
        "print(x_train[0:5])\n",
        "print(y_train[0:5])\n",
        "\n",
        "# 3. Compute mean DNA language model embeddings of sequences.\n",
        "train_embeddings = compute_mean_sequence_embeddings(\n",
        "    x_train, tokenizer, language_model)\n",
        "train_df = pd.DataFrame(train_embeddings)\n",
        "train_df['label'] = y_train[:, 0]\n",
        "\n",
        "valid_embeddings = compute_mean_sequence_embeddings(\n",
        "    x_valid, tokenizer, language_model)\n",
        "valid_df = pd.DataFrame(valid_embeddings)\n",
        "valid_df['label'] = y_valid[:, 0]\n",
        "```"
      ],
      "metadata": {
        "id": "nEqZwSkfi3BW"
      }
    },
    {
      "cell_type": "markdown",
      "source": [
        "## Convert the data to a TensorFlow dataset"
      ],
      "metadata": {
        "id": "TJ7HXckUwbfY"
      }
    },
    {
      "cell_type": "markdown",
      "source": [
        "We will need to convert these dataframes to a TensorFlow dataset that we can easily iterate on while training the model:"
      ],
      "metadata": {
        "id": "-4jfUcKiUcTl"
      }
    },
    {
      "cell_type": "code",
      "source": [
        "import tensorflow as tf\n",
        "import numpy as np\n",
        "\n",
        "def convert_to_tfds(df: pd.DataFrame, batch_size: int=32,\n",
        "                    is_training: bool=False):\n",
        "    \"\"\"Convert embeddings and labels to a TensorFlow dataset.\"\"\"\n",
        "    embeddings = np.array(df.iloc[:, :-1])\n",
        "    labels = np.array(df.iloc[:, -1])[:, None]\n",
        "\n",
        "    ds = tf.data.Dataset.from_tensor_slices(\n",
        "        {'embeddings': embeddings, 'labels': labels})\n",
        "\n",
        "    if is_training:\n",
        "      ds = ds.shuffle(buffer_size=len(df)).repeat()\n",
        "\n",
        "    ds = ds.batch(batch_size).prefetch(tf.data.experimental.AUTOTUNE)\n",
        "\n",
        "    return iter(ds)\n",
        "\n",
        "BATCH_SIZE = 32\n",
        "\n",
        "train_ds = convert_to_tfds(\n",
        "    train_df, batch_size=BATCH_SIZE, is_training=True)\n",
        "valid_ds = convert_to_tfds(\n",
        "    valid_df, batch_size=BATCH_SIZE, is_training=False)"
      ],
      "metadata": {
        "id": "D-GPb4YWw8ld"
      },
      "execution_count": null,
      "outputs": []
    },
    {
      "cell_type": "markdown",
      "source": [
        "Let's take a look at one training batch of data:"
      ],
      "metadata": {
        "id": "ufGd4gz1oiCi"
      }
    },
    {
      "cell_type": "code",
      "source": [
        "batch = next(train_ds)\n",
        "batch"
      ],
      "metadata": {
        "colab": {
          "base_uri": "https://localhost:8080/"
        },
        "id": "6U56UKQWxjdv",
        "outputId": "60f07548-e581-46f9-d31b-dc4b9b3102ca"
      },
      "execution_count": null,
      "outputs": [
        {
          "output_type": "execute_result",
          "data": {
            "text/plain": [
              "{'embeddings': <tf.Tensor: shape=(32, 512), dtype=float64, numpy=\n",
              " array([[-0.1114872 ,  0.27980417,  0.02684661, ..., -0.04209897,\n",
              "         -0.03322605, -0.05715258],\n",
              "        [ 0.06226031,  0.30887225, -0.04939217, ..., -0.15747367,\n",
              "         -0.12448421, -0.09733672],\n",
              "        [-0.1296992 ,  0.20437889,  0.07493491, ..., -0.07063358,\n",
              "         -0.01555243, -0.10164195],\n",
              "        ...,\n",
              "        [-0.2131375 ,  0.3748914 , -0.05705086, ..., -0.11909294,\n",
              "         -0.07855282, -0.19344343],\n",
              "        [-0.06665198,  0.40946475,  0.10398961, ..., -0.09309843,\n",
              "         -0.19692077, -0.15473965],\n",
              "        [-0.00398321,  0.14622056, -0.09917898, ..., -0.03902043,\n",
              "         -0.0670076 ,  0.12401944]])>,\n",
              " 'labels': <tf.Tensor: shape=(32, 1), dtype=int64, numpy=\n",
              " array([[1],\n",
              "        [1],\n",
              "        [0],\n",
              "        [0],\n",
              "        [0],\n",
              "        [0],\n",
              "        [1],\n",
              "        [0],\n",
              "        [1],\n",
              "        [0],\n",
              "        [1],\n",
              "        [1],\n",
              "        [0],\n",
              "        [0],\n",
              "        [1],\n",
              "        [0],\n",
              "        [1],\n",
              "        [1],\n",
              "        [1],\n",
              "        [0],\n",
              "        [1],\n",
              "        [1],\n",
              "        [1],\n",
              "        [1],\n",
              "        [1],\n",
              "        [1],\n",
              "        [1],\n",
              "        [1],\n",
              "        [0],\n",
              "        [1],\n",
              "        [0],\n",
              "        [0]])>}"
            ]
          },
          "metadata": {},
          "execution_count": 74
        }
      ]
    },
    {
      "cell_type": "markdown",
      "source": [
        "The dataset is all prepared for model training!"
      ],
      "metadata": {
        "id": "C2CzBBJxVTAG"
      }
    },
    {
      "cell_type": "markdown",
      "source": [
        "## Fine-tuning the model"
      ],
      "metadata": {
        "id": "80wbx6lTofFI"
      }
    },
    {
      "cell_type": "markdown",
      "source": [
        "\n",
        "We will now train a simple [flax](https://flax.readthedocs.io/en/latest/) linear model on top of the mean DNA embeddings.\n",
        "\n",
        "Flax is quite similar to many other deep learning frameworks (especially [Haiku](https://dm-haiku.readthedocs.io/en/latest/), if you have encountered it). In our setup, note that our model is only an MLP (multi-layer perceptron, which is multiple linear layers with some non-linearities) – we are not modifying (backpropagating into) the original DNA language model."
      ],
      "metadata": {
        "id": "7vwwXzz1i3Dq"
      }
    },
    {
      "cell_type": "code",
      "execution_count": null,
      "metadata": {
        "id": "mAxz08WTOeTb"
      },
      "outputs": [],
      "source": [
        "class Model(nn.Module):\n",
        "  dim: int = 128\n",
        "\n",
        "  @nn.compact\n",
        "  def __call__(self, x):\n",
        "    x = nn.Dense(self.dim * 2)(x)\n",
        "    x = nn.gelu(x)\n",
        "    x = nn.Dense(self.dim)(x)\n",
        "    x = nn.gelu(x)\n",
        "    x = nn.Dense(1)(x)\n",
        "    return x"
      ]
    },
    {
      "cell_type": "code",
      "source": [
        "mlp = Model()"
      ],
      "metadata": {
        "id": "pPrdkSM-c2VT"
      },
      "execution_count": null,
      "outputs": []
    },
    {
      "cell_type": "markdown",
      "metadata": {
        "id": "Kve15vj32elg"
      },
      "source": [
        "### Training loop\n",
        "\n",
        "With the model and data set up, we can now initialise our model parameters, our optimiser, and write a function to perform a single training step (which encompasses a model forward pass, a loss computation, a gradient computation, and an update of the model parameters using the gradients):"
      ]
    },
    {
      "cell_type": "code",
      "execution_count": null,
      "metadata": {
        "id": "wzvdOVyRPaF7"
      },
      "outputs": [],
      "source": [
        "LEARNING_RATE = 0.0001\n",
        "\n",
        "init_rng = jax.random.PRNGKey(42)\n",
        "variables = mlp.init(init_rng, batch['embeddings'])\n",
        "params = variables['params']\n",
        "\n",
        "optimiser = optax.adam(LEARNING_RATE)\n",
        "opt_state = optimiser.init(params)"
      ]
    },
    {
      "cell_type": "markdown",
      "source": [
        "You can check out the names of the layers in our neural network like this:"
      ],
      "metadata": {
        "id": "2CQe4CHuvmPx"
      }
    },
    {
      "cell_type": "code",
      "source": [
        "params.keys()"
      ],
      "metadata": {
        "colab": {
          "base_uri": "https://localhost:8080/"
        },
        "id": "B3EbmNT5vhXX",
        "outputId": "6a21d6bb-fd29-468b-fae6-dcaec99f3f9b"
      },
      "execution_count": null,
      "outputs": [
        {
          "output_type": "execute_result",
          "data": {
            "text/plain": [
              "dict_keys(['Dense_0', 'Dense_1', 'Dense_2'])"
            ]
          },
          "metadata": {},
          "execution_count": 78
        }
      ]
    },
    {
      "cell_type": "markdown",
      "source": [
        "And check that the shape of that layer is what you'd expect like this:"
      ],
      "metadata": {
        "id": "wgOUFfqRvpTw"
      }
    },
    {
      "cell_type": "code",
      "source": [
        "for layer_name in ['Dense_0', 'Dense_1', 'Dense_2']:\n",
        "  print(params[layer_name]['kernel'].shape)"
      ],
      "metadata": {
        "colab": {
          "base_uri": "https://localhost:8080/"
        },
        "id": "rZaFLwwAvtO8",
        "outputId": "20979a96-1d92-4b28-9244-cc281cfa9722"
      },
      "execution_count": null,
      "outputs": [
        {
          "output_type": "stream",
          "name": "stdout",
          "text": [
            "(512, 256)\n",
            "(256, 128)\n",
            "(128, 1)\n"
          ]
        }
      ]
    },
    {
      "cell_type": "markdown",
      "source": [
        "**Question**: Can you figure out where these shapes come from, given our code in our `class Model` above?"
      ],
      "metadata": {
        "id": "KQVRPJ76v_nA"
      }
    },
    {
      "cell_type": "markdown",
      "source": [
        "We could already make predictions using these randomly-initiated parameters (it's just that the predictions will be random):"
      ],
      "metadata": {
        "id": "rSfHeH5zyqBd"
      }
    },
    {
      "cell_type": "code",
      "source": [
        "preds = mlp.apply({'params': params}, batch['embeddings'])\n",
        "nn.sigmoid(preds)"
      ],
      "metadata": {
        "colab": {
          "base_uri": "https://localhost:8080/"
        },
        "id": "vpzUpbHdyYwY",
        "outputId": "2be26157-d5a3-4ad1-d145-e45864d90bcf"
      },
      "execution_count": null,
      "outputs": [
        {
          "output_type": "execute_result",
          "data": {
            "text/plain": [
              "Array([[0.58091384],\n",
              "       [0.5803177 ],\n",
              "       [0.58003753],\n",
              "       [0.5900895 ],\n",
              "       [0.5804955 ],\n",
              "       [0.5903052 ],\n",
              "       [0.5947331 ],\n",
              "       [0.58061385],\n",
              "       [0.59143394],\n",
              "       [0.58817416],\n",
              "       [0.5848861 ],\n",
              "       [0.5839704 ],\n",
              "       [0.59159577],\n",
              "       [0.5869089 ],\n",
              "       [0.5982067 ],\n",
              "       [0.59783834],\n",
              "       [0.5788974 ],\n",
              "       [0.588121  ],\n",
              "       [0.60000134],\n",
              "       [0.5741673 ],\n",
              "       [0.5837109 ],\n",
              "       [0.5590007 ],\n",
              "       [0.58644986],\n",
              "       [0.58409023],\n",
              "       [0.59882253],\n",
              "       [0.57772076],\n",
              "       [0.5818696 ],\n",
              "       [0.5875549 ],\n",
              "       [0.57680136],\n",
              "       [0.58261365],\n",
              "       [0.5914797 ],\n",
              "       [0.5821951 ]], dtype=float32)"
            ]
          },
          "metadata": {},
          "execution_count": 80
        }
      ]
    },
    {
      "cell_type": "markdown",
      "source": [
        "Let's now define a loss function that we can use to the train these parameters:"
      ],
      "metadata": {
        "id": "nvRto9Nky_40"
      }
    },
    {
      "cell_type": "code",
      "source": [
        "def loss_fn(params, embeddings, labels):\n",
        "  \"\"\"Applies sigmoid to logits and computes binary cross-entropy loss.\"\"\"\n",
        "  logits = mlp.apply({'params': params}, embeddings)\n",
        "  loss = optax.sigmoid_binary_cross_entropy(\n",
        "      logits=logits, labels=labels).mean()\n",
        "  return loss"
      ],
      "metadata": {
        "id": "qgM5xJW6x8Hm"
      },
      "execution_count": null,
      "outputs": []
    },
    {
      "cell_type": "markdown",
      "source": [
        "Let's compute an example loss:"
      ],
      "metadata": {
        "id": "yOkY0h3C0LuR"
      }
    },
    {
      "cell_type": "code",
      "source": [
        "embeddings = jnp.array(batch['embeddings'])\n",
        "labels = jnp.array(batch['labels'])\n",
        "loss_fn(params, embeddings, labels)"
      ],
      "metadata": {
        "colab": {
          "base_uri": "https://localhost:8080/"
        },
        "id": "uqkzxWnxyRA2",
        "outputId": "c2631a16-2668-4ee4-b7f9-30cadb54b5af"
      },
      "execution_count": null,
      "outputs": [
        {
          "output_type": "execute_result",
          "data": {
            "text/plain": [
              "Array(0.67573225, dtype=float32)"
            ]
          },
          "metadata": {},
          "execution_count": 82
        }
      ]
    },
    {
      "cell_type": "markdown",
      "source": [
        "So, we expect a loss of around 0.7 for randomly-initialised weights. Hopefully, with model training, we should see losses smaller than this as the model learns the signal in the data! :)"
      ],
      "metadata": {
        "id": "nro6FSdK_6Ji"
      }
    },
    {
      "cell_type": "markdown",
      "source": [
        "Finally, we can write a training step function:"
      ],
      "metadata": {
        "id": "e7LRUb1l0N2F"
      }
    },
    {
      "cell_type": "code",
      "source": [
        "@jax.jit\n",
        "def train_step(params, opt_state, embeddings, labels):\n",
        "  \"\"\"A single training step that computes gradients and updates model params.\"\"\"\n",
        "  loss, grads = jax.value_and_grad(loss_fn)(params, embeddings, labels)\n",
        "  updates, opt_state = optimiser.update(grads, opt_state)\n",
        "  params = optax.apply_updates(params, updates)\n",
        "  return params, opt_state, loss"
      ],
      "metadata": {
        "id": "jJ4PNA1pvZRI"
      },
      "execution_count": null,
      "outputs": []
    },
    {
      "cell_type": "markdown",
      "source": [
        "### Let's train the model!"
      ],
      "metadata": {
        "id": "47VtoXKw403F"
      }
    },
    {
      "cell_type": "code",
      "source": [
        "NUM_EPOCHS = 5\n",
        "NUM_TRAINING_STEPS = (len(train_df) // BATCH_SIZE) * NUM_EPOCHS\n",
        "LEARNING_RATE = 0.001\n",
        "\n",
        "# Reinitialise the model to make sure we start fresh each time cell is run.\n",
        "init_rng = jax.random.PRNGKey(42)\n",
        "variables = mlp.init(init_rng, batch['embeddings'])\n",
        "params = variables['params']\n",
        "\n",
        "optimiser = optax.adam(LEARNING_RATE)\n",
        "opt_state = optimiser.init(params)\n",
        "\n",
        "# Keep a record of losses.\n",
        "running_train_loss = None\n",
        "running_train_losses = []\n",
        "valid_losses = []\n",
        "\n",
        "for epoch in tqdm.tqdm(range(NUM_EPOCHS)):\n",
        "\n",
        "  # Training loop.\n",
        "  for step in range(NUM_TRAINING_STEPS):\n",
        "    batch = next(train_ds)\n",
        "    embeddings = jnp.array(batch['embeddings'])\n",
        "    labels = jnp.array(batch['labels'])\n",
        "    params, opt_state, loss = train_step(params, opt_state, embeddings, labels)\n",
        "\n",
        "    if running_train_loss is None:\n",
        "      running_train_loss = loss.item()\n",
        "    else:\n",
        "      running_train_loss = 0.99 * running_train_loss + (1 - 0.99) * loss.item()\n",
        "    running_train_losses.append(running_train_loss)\n",
        "\n",
        "  # Validation loop.\n",
        "  valid_ds = convert_to_tfds(valid_df, batch_size=BATCH_SIZE, is_training=False)\n",
        "  for batch in valid_ds:\n",
        "    embeddings = jnp.array(batch['embeddings'])\n",
        "    labels = jnp.array(batch['labels'])\n",
        "    loss = loss_fn(params, embeddings, labels)\n",
        "    valid_losses.append(loss.item())\n",
        "\n",
        "  valid_loss = np.mean(valid_losses)\n",
        "  print(f'[Epoch {epoch}]: Valid loss={valid_loss:.3f}, '\n",
        "        f'Train loss={running_train_loss:.3f}\\n')\n",
        "\n",
        "print('Training complete.')"
      ],
      "metadata": {
        "colab": {
          "base_uri": "https://localhost:8080/"
        },
        "id": "6rljY6Nx_Oar",
        "outputId": "df5d205c-a404-462a-ba05-c1ea15e73ef2"
      },
      "execution_count": null,
      "outputs": [
        {
          "output_type": "stream",
          "name": "stderr",
          "text": [
            " 20%|██        | 1/5 [00:06<00:27,  6.83s/it]"
          ]
        },
        {
          "output_type": "stream",
          "name": "stdout",
          "text": [
            "[Epoch 0]: Valid loss=0.600, Train loss=0.564\n",
            "\n"
          ]
        },
        {
          "output_type": "stream",
          "name": "stderr",
          "text": [
            "\r 40%|████      | 2/5 [00:13<00:20,  6.94s/it]"
          ]
        },
        {
          "output_type": "stream",
          "name": "stdout",
          "text": [
            "[Epoch 1]: Valid loss=0.601, Train loss=0.548\n",
            "\n"
          ]
        },
        {
          "output_type": "stream",
          "name": "stderr",
          "text": [
            "\r 60%|██████    | 3/5 [00:20<00:13,  6.82s/it]"
          ]
        },
        {
          "output_type": "stream",
          "name": "stdout",
          "text": [
            "[Epoch 2]: Valid loss=0.586, Train loss=0.529\n",
            "\n"
          ]
        },
        {
          "output_type": "stream",
          "name": "stderr",
          "text": [
            "\r 80%|████████  | 4/5 [00:27<00:06,  6.83s/it]"
          ]
        },
        {
          "output_type": "stream",
          "name": "stdout",
          "text": [
            "[Epoch 3]: Valid loss=0.576, Train loss=0.532\n",
            "\n"
          ]
        },
        {
          "output_type": "stream",
          "name": "stderr",
          "text": [
            "100%|██████████| 5/5 [00:34<00:00,  6.83s/it]"
          ]
        },
        {
          "output_type": "stream",
          "name": "stdout",
          "text": [
            "[Epoch 4]: Valid loss=0.571, Train loss=0.523\n",
            "\n",
            "Training complete.\n"
          ]
        },
        {
          "output_type": "stream",
          "name": "stderr",
          "text": [
            "\n"
          ]
        }
      ]
    },
    {
      "cell_type": "markdown",
      "source": [
        "🎉 🎉 **And we're done with the basic training of the model!** 🎉 🎉"
      ],
      "metadata": {
        "id": "vNxoqkSbGvtr"
      }
    },
    {
      "cell_type": "markdown",
      "source": [
        "## Sanity-checking the model\n",
        "\n",
        "We can try inferencing the trained model on any new DNA string of interest. For example, since we know from biological experiments that the CTCF protein binds to DNA sequences containing motifs similar to 'CCACCAGGGGGCGC', then the model should predict a very high probability of binding for DNA containing these motifs.\n",
        "\n",
        "Let's construct the 200 base long DNA string and grab its embedding:"
      ],
      "metadata": {
        "id": "8qQ4NafPHCsL"
      }
    },
    {
      "cell_type": "code",
      "source": [
        "ctcf_motif_dna = 'CCACCAGGGGGCGC'*14 + 'AAAA'\n",
        "print('Length of CTCF motif-filled DNA string:', len(ctcf_motif_dna))\n",
        "\n",
        "ctcf_motif_embedding = compute_mean_sequence_embeddings(\n",
        "    [ctcf_motif_dna], tokenizer, language_model)"
      ],
      "metadata": {
        "colab": {
          "base_uri": "https://localhost:8080/"
        },
        "id": "knsDFhP5HCx7",
        "outputId": "c73260cc-07d5-49c1-a66c-e7efce21cc08"
      },
      "execution_count": null,
      "outputs": [
        {
          "output_type": "stream",
          "name": "stdout",
          "text": [
            "Length of CTCF motif-filled DNA string: 200\n"
          ]
        },
        {
          "output_type": "stream",
          "name": "stderr",
          "text": [
            "100%|██████████| 1/1 [00:00<00:00, 15.77it/s]\n"
          ]
        }
      ]
    },
    {
      "cell_type": "markdown",
      "source": [
        "Now we can compute the probability that the DNA will bind CTCF:"
      ],
      "metadata": {
        "id": "dM_yTcpcILFm"
      }
    },
    {
      "cell_type": "code",
      "source": [
        "jax.nn.sigmoid(mlp.apply({'params': params}, ctcf_motif_embedding))"
      ],
      "metadata": {
        "colab": {
          "base_uri": "https://localhost:8080/"
        },
        "id": "9L7HI9d_HdkY",
        "outputId": "11670efe-0b11-4b66-e0c1-a7b2c30e708e"
      },
      "execution_count": null,
      "outputs": [
        {
          "output_type": "execute_result",
          "data": {
            "text/plain": [
              "Array([[0.9939913]], dtype=float32)"
            ]
          },
          "metadata": {},
          "execution_count": 91
        }
      ]
    },
    {
      "cell_type": "markdown",
      "source": [
        "Success! That probability is very close to 1. This means that the model has learned to identify some representation of this motif and associate it with CTCF binding to DNA.\n",
        "\n",
        "Conversely, random DNA strings should have low probability of binding CTCF:"
      ],
      "metadata": {
        "id": "vf3cVUYtIO4D"
      }
    },
    {
      "cell_type": "code",
      "source": [
        "%%capture\n",
        "random_dna_strings = [\n",
        "    'ACGTACGT'*25,\n",
        "    'CGGCCGCG'*25,\n",
        "    'TCGATCGT'*25,\n",
        "    'TTTTTTTT'*25,\n",
        "]\n",
        "\n",
        "probabilities = []\n",
        "\n",
        "for random_dna_string in random_dna_strings:\n",
        "  random_dna_embedding = compute_mean_sequence_embeddings(\n",
        "    [random_dna_string], tokenizer, language_model)\n",
        "\n",
        "  probabilities.append(\n",
        "      jax.nn.sigmoid(mlp.apply({'params': params}, random_dna_embedding)))"
      ],
      "metadata": {
        "id": "lgadMGYYGs5E"
      },
      "execution_count": null,
      "outputs": []
    },
    {
      "cell_type": "code",
      "source": [
        "probabilities"
      ],
      "metadata": {
        "colab": {
          "base_uri": "https://localhost:8080/"
        },
        "id": "f6nL2PwKWhZG",
        "outputId": "4ce428b8-ffc8-4f99-c94d-b0fe3c4a0e2c"
      },
      "execution_count": null,
      "outputs": [
        {
          "output_type": "execute_result",
          "data": {
            "text/plain": [
              "[Array([[0.00012685]], dtype=float32),\n",
              " Array([[0.01015549]], dtype=float32),\n",
              " Array([[0.00305125]], dtype=float32),\n",
              " Array([[0.02385707]], dtype=float32)]"
            ]
          },
          "metadata": {},
          "execution_count": 95
        }
      ]
    },
    {
      "cell_type": "markdown",
      "source": [
        "Great, those all look like close to zero probabilities, which is what we would expect 😎."
      ],
      "metadata": {
        "id": "m5euD1_nI2RL"
      }
    },
    {
      "cell_type": "markdown",
      "source": [
        "## [Optional Follow Ups]"
      ],
      "metadata": {
        "id": "17otXl0aGzyx"
      }
    },
    {
      "cell_type": "markdown",
      "source": [
        "1. **[Plotting Losses]** Try plotting the training loss and validation loss over time. What do you see? Should we train it for longer? Is there overfitting to the training set? If so, how could you improve the situation?\n",
        " - **Hint**: try `plt.plot(train_losses, c='grey')`.\n",
        "2. **[Evaluation Metrics]** So far, we have only been monitoring losses during model training, but these are a bit hard to interpret. How could you implement and track an **accuracy** metric during training?\n",
        " - **Hint**: Remember that if you `jax.nn.sigmoid` on the model predictions, it gives the probability that the DNA sequence binds the CTCF protein. You could treat any probability above 0.5 as a prediction of '1', and any probability below 0.5 as a prediction of '0'.\n",
        "3. **[Hyperparameter Tuning]** Try varying the learning rate, batch size, and number of training steps. How do these changes affect the convergence and final performance of the model?\n",
        "4. **[Data Augmentation]** Can you think of a way to expand (or augment) the training set? How would you measure if this is helpful for model performance?\n",
        "5. **[Different Architectures]** Experiment with different model architectures, such as adding more layers or using different activation functions.\n",
        " - **Challenge**: if you are feeling very adventurous, try implementing a CNN that can learn directly from (one-hot encoded) DNA sequences!\n"
      ],
      "metadata": {
        "id": "gHSPk0yVG5w8"
      }
    }
  ],
  "metadata": {
    "accelerator": "GPU",
    "colab": {
      "gpuType": "A100",
      "machine_shape": "hm",
      "toc_visible": true,
      "provenance": []
    },
    "kernelspec": {
      "display_name": "Python 3",
      "name": "python3"
    },
    "language_info": {
      "name": "python"
    }
  },
  "nbformat": 4,
  "nbformat_minor": 0
}